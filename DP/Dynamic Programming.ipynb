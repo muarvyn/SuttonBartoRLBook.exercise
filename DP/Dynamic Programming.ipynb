{
 "cells": [
  {
   "cell_type": "markdown",
   "metadata": {},
   "source": [
    "### Exercise 4.5\n",
    "\n",
    "The problem is in the way argmax selects an argument, for which the function has equal maximum values. The solustion is based on replacing argmax with explicit implementation with deterministic behaviour.\n",
    "In the following answer the <font style=\"color: red\">code in red</font> is to be replaced with <font style=\"color: green\">code in green</font>.\n",
    "\n",
    "1. Initialization<br>\n",
    "  $V(s)\\in \\mathbb{R}$ and $\\pi(s)\\in \\mathcal{A}(s)$ arbitrarily for all $s\\in \\mathcal{S}$<br><br>\n",
    "2. Policy Evaluation<br>\n",
    "    Loop:\n",
    "<div style=\"text-indent: 20px\">$\\Delta \\leftarrow 0$</div>\n",
    "<div style=\"text-indent: 20px\">Loop for each $s \\in \\mathcal{S}:$</div>\n",
    "<div style=\"text-indent: 40px\">$v \\leftarrow V(s)$</div>\n",
    "<div style=\"text-indent: 40px\">$V(s) \\leftarrow \\sum_{s',r}p(s',r|s,\\pi(s))\\big[r+\\gamma V(s')\\big]$</div>\n",
    "<div style=\"text-indent: 40px\">$\\Delta \\leftarrow max(\\Delta,|v-V(s)|)$</div>\n",
    "<div style=\"text-indent: 20px\">until $\\Delta < \\theta$ (a small positive number determining the accuracy of estimation)</div><br>\n",
    "3. Policy Improvement<br>\n",
    "  $\\textit{policy-stable} \\leftarrow \\textit{true}$<br>\n",
    "  For each $s \\in \\mathcal{S}:$<br>\n",
    "<div style=\"text-indent: 20px\"> $\\textit{old-action} \\leftarrow \\pi(s)$</div>\n",
    "<div style=\"text-indent: 20px; color: red\">$\\pi(s) \\leftarrow argmax_a \\sum_{s',r}p(s',r|s,a)\\big[r+\\gamma V(s')\\big]$</div>\n",
    "<div style=\"text-indent: 20px; color: green\">$maxqsa \\leftarrow -\\infty$</div>\n",
    "<div style=\"text-indent: 20px; color: green\">For each $a \\in \\mathcal{A}(s)$ in sorted order:</div>\n",
    "<div style=\"text-indent: 40px; color: green\">$qsa \\leftarrow \\sum_{s',r}p(s',r|s,a)\\big[r+\\gamma V(s')\\big]$</div>\n",
    "<div style=\"text-indent: 40px; color: green\">If $qsa > maxqsa:$</div>\n",
    "<div style=\"text-indent: 60px; color: green\">$maxqsa \\leftarrow qsa$</div>\n",
    "<div style=\"text-indent: 60px; color: green\">$\\pi(s) \\leftarrow a$</div>\n",
    "<div style=\"text-indent: 20px\">If $\\textit{old-action} \\neq \\pi(s)$, then $\\textit{policy-stable} \\leftarrow \\textit{false}$</div>\n",
    "If $\\textit{policy-stable}$, then stop and return $V \\approx v_*$ and $\\pi(s) \\approx \\pi_*$; else go to 2"
   ]
  }
 ],
 "metadata": {
  "kernelspec": {
   "display_name": "Python 3",
   "language": "python",
   "name": "python3"
  },
  "language_info": {
   "codemirror_mode": {
    "name": "ipython",
    "version": 3
   },
   "file_extension": ".py",
   "mimetype": "text/x-python",
   "name": "python",
   "nbconvert_exporter": "python",
   "pygments_lexer": "ipython3",
   "version": "3.6.7rc1"
  }
 },
 "nbformat": 4,
 "nbformat_minor": 2
}
