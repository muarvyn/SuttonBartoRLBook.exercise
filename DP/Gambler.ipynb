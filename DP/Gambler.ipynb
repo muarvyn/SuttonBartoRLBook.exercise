{
 "cells": [
  {
   "cell_type": "code",
   "execution_count": 325,
   "metadata": {},
   "outputs": [],
   "source": [
    "import numpy as np\n",
    "import matplotlib.pyplot as plt\n",
    "\n",
    "def iterateValue(value, getStatesIter, getActionsIter, getStateTransitionsIter, \n",
    "                 max_iter=None, Theta=1.0e-5):\n",
    "    it = 1\n",
    "    while True:\n",
    "        delta = 0.0\n",
    "        print(\"Iteration {}\".format(it), end=\"\", flush=True)\n",
    "        new_value = np.array(value)\n",
    "        for state in getStatesIter():\n",
    "            #v = value[state]\n",
    "            max_qsa = BIG_NEGATIVE_VALUE\n",
    "            for action in getActionsIter(state):\n",
    "                dist = getStateTransitionsIter(state,action)\n",
    "                qsa = np.sum([prob*(reward + gamma*value[next_state])\n",
    "                               for next_state, prob, reward in dist])\n",
    "                if qsa > max_qsa:\n",
    "                    max_qsa = qsa\n",
    "            new_value[state] = max_qsa\n",
    "            #print(\"value[{}]={}\".format(state,max_qsa))\n",
    "            delta = max(delta, abs(value[state]-new_value[state]))\n",
    "            #print(\".\", end=\"\", flush=True)\n",
    "        print(\"[Done] delta={}\".format(delta))\n",
    "        if max_iter and it >= max_iter or delta < Theta: break\n",
    "        it += 1\n",
    "    return new_value\n",
    "\n",
    "def iterateInplace(value, getStatesIter, getActionsIter, getStateTransitionsIter, \n",
    "                 max_iter=None, Theta=1.0e-5):\n",
    "    it = 1\n",
    "    while True:\n",
    "        delta = 0.0\n",
    "        print(\"Iteration {}\".format(it), end=\"\", flush=True)\n",
    "        for state in getStatesIter():\n",
    "            v = value[state]\n",
    "            max_qsa = np.float64(BIG_NEGATIVE_VALUE)\n",
    "            for action in getActionsIter(state):\n",
    "                dist = getStateTransitionsIter(state,action)\n",
    "                qsa = np.sum([prob*(reward + gamma*value[next_state])\n",
    "                               for next_state, prob, reward in dist])\n",
    "                if qsa > max_qsa:\n",
    "                    max_qsa = qsa\n",
    "            value[state] = max_qsa\n",
    "            #print(\"value[{}]={}\".format(state,max_qsa))\n",
    "            delta = max(delta, abs(value[state]-v))\n",
    "            #print(\".\", end=\"\", flush=True)\n",
    "        print(\"[Done] delta={}\".format(delta))\n",
    "        if max_iter and it >= max_iter or delta < Theta: break\n",
    "        it += 1\n",
    "    return value\n",
    "\n",
    "def getPolicy(value, policy, getStatesIter, getActionsIter, getStateTransitionsIter):\n",
    "    for state in getStatesIter():\n",
    "        max_qsa = BIG_NEGATIVE_VALUE\n",
    "        for action in getActionsIter(state):\n",
    "            dist = getStateTransitionsIter(state,action)\n",
    "            qsa = np.sum([prob*(reward + gamma*value[next_state])\n",
    "                           for next_state, prob, reward in dist])\n",
    "            if qsa > max_qsa:\n",
    "                max_qsa = qsa\n",
    "                policy[state] = action\n",
    "    \n",
    "def getPolicy2(value, policy, getStatesIter, getActionsIter, getStateTransitionsIter):\n",
    "    for state in getStatesIter():\n",
    "        max_qsa = np.float64(BIG_NEGATIVE_VALUE)\n",
    "        for action in getActionsIter(state):\n",
    "            dist = getStateTransitionsIter(state,action)\n",
    "            qsa = np.sum([prob*(reward + gamma*value[next_state])\n",
    "                           for next_state, prob, reward in dist])\n",
    "            if qsa > max_qsa+1.0e-15:\n",
    "                max_qsa = qsa\n",
    "                policy[state] = action    "
   ]
  },
  {
   "cell_type": "code",
   "execution_count": 311,
   "metadata": {},
   "outputs": [],
   "source": [
    "def getGamblerStatesIter():\n",
    "    return range(1,goal)\n",
    "\n",
    "def getGamblerActionsIter(state):\n",
    "    return range(1,min(state,goal-state)+1)\n",
    "\n",
    "def all_actions(state):\n",
    "    return range(state+1)\n",
    "\n",
    "def all_transitions(state,action):\n",
    "    return iter([(state-action, 1.0-win_prob, 0.0),\n",
    "            (min(state+action,goal), win_prob, float(state+action >= goal))])\n",
    "\n",
    "def getGamblerTransitionsIter(state,action):\n",
    "    return iter([(state-action, 1.0-win_prob, 0.0),\n",
    "            (state+action, win_prob, 0.0)])"
   ]
  },
  {
   "cell_type": "code",
   "execution_count": 312,
   "metadata": {},
   "outputs": [],
   "source": [
    "goal = 100\n",
    "win_prob = 0.4\n",
    "gamma = 1.0\n",
    "BIG_NEGATIVE_VALUE = -1.0e19\n",
    "value = np.zeros(goal+1, dtype=np.float64)\n",
    "value[goal] = 1.0\n",
    "policy = np.zeros(goal, dtype=np.int)"
   ]
  },
  {
   "cell_type": "code",
   "execution_count": 313,
   "metadata": {},
   "outputs": [
    {
     "name": "stdout",
     "output_type": "stream",
     "text": [
      "Iteration 1[Done] delta=0.9533440000000001\n",
      "Iteration 2[Done] delta=0.3688960000000001\n",
      "Iteration 3[Done] delta=0.13926400000000005\n",
      "Iteration 4[Done] delta=0.05570560000000002\n",
      "Iteration 5[Done] delta=0.02228224000000001\n",
      "Iteration 6[Done] delta=0.008912896000000003\n",
      "Iteration 7[Done] delta=0.0016384000000000008\n",
      "Iteration 8[Done] delta=0.0003932160000000005\n",
      "Iteration 9[Done] delta=7.602595430399994e-05\n",
      "Iteration 10[Done] delta=3.041038172160032e-05\n",
      "Iteration 11[Done] delta=2.6418075402233343e-06\n",
      "Iteration 12[Done] delta=9.045549017728909e-07\n",
      "Iteration 13[Done] delta=7.815354352569415e-08\n",
      "Iteration 14[Done] delta=1.8756850440893036e-08\n",
      "Iteration 15[Done] delta=5.230363003816407e-09\n",
      "Iteration 16[Done] delta=1.869841788348925e-09\n",
      "Iteration 17[Done] delta=7.479367151660976e-10\n",
      "Iteration 18[Done] delta=1.8698417900836484e-10\n",
      "Iteration 19[Done] delta=4.8203025772297625e-11\n",
      "Iteration 20[Done] delta=1.928121030891905e-11\n",
      "Iteration 21[Done] delta=1.6749952119754496e-12\n",
      "Iteration 22[Done] delta=5.735177957544302e-13\n",
      "Iteration 23[Done] delta=4.955064136780152e-14\n",
      "Iteration 24[Done] delta=1.189326415129699e-14\n",
      "Iteration 25[Done] delta=3.3150565625916784e-15\n",
      "Iteration 26[Done] delta=1.1839487723541708e-15\n",
      "Iteration 27[Done] delta=4.735795089416683e-16\n",
      "Iteration 28[Done] delta=1.1882855810441129e-16\n",
      "Iteration 29[Done] delta=5.551115123125783e-17\n",
      "Iteration 30[Done] delta=1.3877787807814457e-17\n",
      "Iteration 31[Done] delta=1.3010426069826053e-18\n",
      "Iteration 32[Done] delta=4.336808689942018e-19\n",
      "Iteration 33[Done] delta=0.0\n"
     ]
    }
   ],
   "source": [
    "result = iterateInplace(value, getGamblerStatesIter, getGamblerActionsIter,\n",
    "                  getGamblerTransitionsIter, max_iter=100, Theta=1.0e-22)"
   ]
  },
  {
   "cell_type": "code",
   "execution_count": 165,
   "metadata": {},
   "outputs": [
    {
     "name": "stdout",
     "output_type": "stream",
     "text": [
      "Iteration 1[Done] delta=0.8480044007301331\n",
      "Iteration 2[Done] delta=0.29866963624954224\n",
      "Iteration 3[Done] delta=0.1031130850315094\n",
      "Iteration 4[Done] delta=0.03712071105837822\n",
      "Iteration 5[Done] delta=0.013363456353545189\n",
      "Iteration 6[Done] delta=0.004810844082385302\n",
      "Iteration 7[Done] delta=0.0009352285414934158\n",
      "Iteration 8[Done] delta=0.00018180906772613525\n",
      "Iteration 9[Done] delta=6.54514878988266e-05\n",
      "Iteration 10[Done] delta=2.3562461137771606e-05\n",
      "Iteration 11[Done] delta=8.482486009597778e-06\n"
     ]
    }
   ],
   "source": [
    "result = iterateInplace(value, getGamblerStatesIter, all_actions,#getGamblerActionsIter,\n",
    "                  all_transitions, max_iter=100)#, Theta=0.001)"
   ]
  },
  {
   "cell_type": "code",
   "execution_count": 285,
   "metadata": {},
   "outputs": [
    {
     "data": {
      "text/plain": [
       "[<matplotlib.lines.Line2D at 0x7f8d306e51d0>]"
      ]
     },
     "execution_count": 285,
     "metadata": {},
     "output_type": "execute_result"
    },
    {
     "data": {
      "image/png": "[encoded data removed]",
      "text/plain": [
       "<Figure size 432x288 with 1 Axes>"
      ]
     },
     "metadata": {
      "needs_background": "light"
     },
     "output_type": "display_data"
    }
   ],
   "source": [
    "value = result\n",
    "plt.plot(result)"
   ]
  },
  {
   "cell_type": "code",
   "execution_count": 326,
   "metadata": {},
   "outputs": [],
   "source": [
    "getPolicy2(value, policy, getGamblerStatesIter, getGamblerActionsIter, getGamblerTransitionsIter)"
   ]
  },
  {
   "cell_type": "code",
   "execution_count": 327,
   "metadata": {},
   "outputs": [
    {
     "data": {
      "text/plain": [
       "[<matplotlib.lines.Line2D at 0x7f8d302b89e8>]"
      ]
     },
     "execution_count": 327,
     "metadata": {},
     "output_type": "execute_result"
    },
    {
     "data": {
      "image/png": "[encoded data removed]",
      "text/plain": [
       "<Figure size 432x288 with 1 Axes>"
      ]
     },
     "metadata": {
      "needs_background": "light"
     },
     "output_type": "display_data"
    }
   ],
   "source": [
    "plt.plot(policy)"
   ]
  },
  {
   "cell_type": "code",
   "execution_count": 280,
   "metadata": {},
   "outputs": [],
   "source": [
    "def getQ(value, q, getStatesIter, getActionsIter, getStateTransitionsIter):\n",
    "    for state in getStatesIter():\n",
    "        for action in getActionsIter(state):\n",
    "            dist = getStateTransitionsIter(state,action)\n",
    "            q[state,action] = np.sum([prob*(reward + gamma*value[next_state])\n",
    "                           for next_state, prob, reward in dist])\n"
   ]
  },
  {
   "cell_type": "code",
   "execution_count": 281,
   "metadata": {},
   "outputs": [
    {
     "data": {
      "text/plain": [
       "<matplotlib.collections.PolyCollection at 0x7f8d30d3e7f0>"
      ]
     },
     "execution_count": 281,
     "metadata": {},
     "output_type": "execute_result"
    },
    {
     "data": {
      "image/png": "[encoded data removed]",
      "text/plain": [
       "<Figure size 432x288 with 1 Axes>"
      ]
     },
     "metadata": {
      "needs_background": "light"
     },
     "output_type": "display_data"
    }
   ],
   "source": [
    "q_func = np.zeros(shape = (goal+1,goal+1,), dtype = np.float32)\n",
    "getQ(value, q_func, getGamblerStatesIter, getGamblerActionsIter, getGamblerTransitionsIter)\n",
    "plt.pcolor(q_func)"
   ]
  },
  {
   "cell_type": "code",
   "execution_count": 330,
   "metadata": {},
   "outputs": [
    {
     "data": {
      "text/plain": [
       "(1, array([0.        , 0.64464766, 0.6340361 , 0.6278411 , 0.6249444 ,\n",
       "        0.62112725, 0.61882555, 0.6178771 , 0.614708  , 0.6130671 ,\n",
       "        0.6139386 , 0.6148814 , 0.6172972 , 0.6172972 , 0.6148814 ,\n",
       "        0.6139386 , 0.6130671 , 0.614708  , 0.6178771 , 0.61882555,\n",
       "        0.62112725, 0.6249444 , 0.6278411 , 0.6340361 , 0.64464766,\n",
       "        0.        , 0.        , 0.        , 0.        , 0.        ,\n",
       "        0.        , 0.        , 0.        , 0.        , 0.        ,\n",
       "        0.        , 0.        , 0.        , 0.        , 0.        ,\n",
       "        0.        , 0.        , 0.        , 0.        , 0.        ,\n",
       "        0.        , 0.        , 0.        , 0.        , 0.        ,\n",
       "        0.        , 0.        , 0.        , 0.        , 0.        ,\n",
       "        0.        , 0.        , 0.        , 0.        , 0.        ,\n",
       "        0.        , 0.        , 0.        , 0.        , 0.        ,\n",
       "        0.        , 0.        , 0.        , 0.        , 0.        ,\n",
       "        0.        , 0.        , 0.        , 0.        , 0.        ,\n",
       "        0.        , 0.        , 0.        , 0.        , 0.        ,\n",
       "        0.        , 0.        , 0.        , 0.        , 0.        ,\n",
       "        0.        , 0.        , 0.        , 0.        , 0.        ,\n",
       "        0.        , 0.        , 0.        , 0.        , 0.        ,\n",
       "        0.        , 0.        , 0.        , 0.        , 0.        ,\n",
       "        0.        ], dtype=float32))"
      ]
     },
     "execution_count": 330,
     "metadata": {},
     "output_type": "execute_result"
    }
   ],
   "source": [
    "policy[76],q_func[76]"
   ]
  },
  {
   "cell_type": "code",
   "execution_count": null,
   "metadata": {},
   "outputs": [],
   "source": []
  }
 ],
 "metadata": {
  "kernelspec": {
   "display_name": "Python 3",
   "language": "python",
   "name": "python3"
  },
  "language_info": {
   "codemirror_mode": {
    "name": "ipython",
    "version": 3
   },
   "file_extension": ".py",
   "mimetype": "text/x-python",
   "name": "python",
   "nbconvert_exporter": "python",
   "pygments_lexer": "ipython3",
   "version": "3.6.7rc1"
  }
 },
 "nbformat": 4,
 "nbformat_minor": 2
}
