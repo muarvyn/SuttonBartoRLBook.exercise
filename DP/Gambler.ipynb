{
 "cells": [
  {
   "cell_type": "code",
   "execution_count": 141,
   "metadata": {},
   "outputs": [],
   "source": [
    "import numpy as np\n",
    "import matplotlib.pyplot as plt\n",
    "\n",
    "def iterateValue(value, getStatesIter, getActionsIter, getStateTransitionsIter, \n",
    "                 gamma=1.0, max_iter=None, Theta=np.finfo(value.dtype).resolution):\n",
    "    it = 1\n",
    "    new_value = np.array(value)\n",
    "    while True:\n",
    "        delta = 0.0\n",
    "        print(\"Iteration {}\".format(it), end=\"\", flush=True)\n",
    "        for state in getStatesIter():\n",
    "            qsa = [np.sum([prob*(reward + gamma*value[next_state])\n",
    "                           for next_state, prob, reward \n",
    "                           in getStateTransitionsIter(state,action)]\n",
    "                         )\n",
    "                   for action in getActionsIter(state)]\n",
    "            new_value[state] = max(qsa)\n",
    "            delta = max(delta, abs(value[state]-new_value[state]))\n",
    "        print(\"[Done] delta={}\".format(delta))\n",
    "        if max_iter and it >= max_iter or delta < Theta: break\n",
    "        value = np.array(new_value)\n",
    "        it += 1\n",
    "    return new_value\n",
    "\n",
    "def iterateInplace(value, getStatesIter, getActionsIter, getStateTransitionsIter, \n",
    "                 gamma=1.0, max_iter=None, Theta=np.finfo(value.dtype).resolution):\n",
    "    it = 1\n",
    "    new_value = value\n",
    "    while True:\n",
    "        delta = 0.0\n",
    "        print(\"Iteration {}\".format(it), end=\"\", flush=True)\n",
    "        for state in getStatesIter():\n",
    "            v = value[state]\n",
    "            qsa = [np.sum([prob*(reward + gamma*value[next_state])\n",
    "                           for next_state, prob, reward \n",
    "                           in getStateTransitionsIter(state,action)]\n",
    "                         )\n",
    "                   for action in getActionsIter(state)]\n",
    "            new_value[state] = max(qsa)\n",
    "            delta = max(delta, abs(v-new_value[state]))\n",
    "        print(\"[Done] delta={}\".format(delta))\n",
    "        if max_iter and it >= max_iter or delta < Theta: break\n",
    "        it += 1\n",
    "    return new_value\n",
    "\n",
    "def getPolicy(value, getStatesIter, getActionsIter, getStateTransitionsIter, ActionAugmentation = 0.0):\n",
    "    policy = np.zeros(shape=value.shape, dtype=int)\n",
    "    for state in getStatesIter():\n",
    "        qsa = [np.sum([prob*(reward + gamma*value[next_state])\n",
    "                       for next_state, prob, reward \n",
    "                       in getStateTransitionsIter(state,action)]\n",
    "                     ) + action*ActionAugmentation\n",
    "               for action in getActionsIter(state)]\n",
    "        policy[state] = np.argmax(qsa)\n",
    "    return policy\n",
    "\n",
    "def getAllPolicy(value, actions_num, getStatesIter, getActionsIter, getStateTransitionsIter):\n",
    "    policy = np.zeros(shape=value.shape+(actions_num,), dtype=bool)\n",
    "    epsilon = np.finfo(np.float64).resolution\n",
    "    for state in getStatesIter():\n",
    "        qsa = np.ones(shape = (actions_num,), dtype=value.dtype) * np.finfo(np.float64).min\n",
    "        for action in getActionsIter(state):\n",
    "            qsa[action] = np.sum([prob*(reward + gamma*value[next_state])\n",
    "                       for next_state, prob, reward \n",
    "                       in getStateTransitionsIter(state,action)]\n",
    "                      )\n",
    "        qsa_max = max(qsa)\n",
    "        policy[state] = qsa_max-epsilon <= qsa\n",
    "    return policy"
   ]
  },
  {
   "cell_type": "code",
   "execution_count": 148,
   "metadata": {},
   "outputs": [],
   "source": [
    "def getGamblerStatesIter(goal):\n",
    "    return range(1, goal)\n",
    "\n",
    "def getGamblerActionsIter(state, goal):\n",
    "    return range(0, min(state, goal-state)+1)\n",
    "\n",
    "def getGamblerTransitionsIter(state, action, goal, win_prob):\n",
    "    return iter([(state-action, 1.0-win_prob, 0.0),\n",
    "            (min(state+action, goal), win_prob, float(state+action >= goal))])"
   ]
  },
  {
   "cell_type": "code",
   "execution_count": 149,
   "metadata": {},
   "outputs": [],
   "source": [
    "goal = 100\n",
    "win_prob = 0.4\n",
    "gamma = 1.0\n",
    "value = np.zeros(goal+1, dtype=np.float64)"
   ]
  },
  {
   "cell_type": "code",
   "execution_count": 150,
   "metadata": {},
   "outputs": [
    {
     "name": "stdout",
     "output_type": "stream",
     "text": [
      "Iteration 1[Done] delta=0.9533440000000001\n",
      "Iteration 2[Done] delta=0.3688960000000001\n",
      "Iteration 3[Done] delta=0.13926400000000005\n",
      "Iteration 4[Done] delta=0.05570560000000002\n",
      "Iteration 5[Done] delta=0.02228224000000001\n",
      "Iteration 6[Done] delta=0.008912896000000003\n",
      "Iteration 7[Done] delta=0.0016384000000000008\n",
      "Iteration 8[Done] delta=0.0003932160000000005\n",
      "Iteration 9[Done] delta=7.602595430399994e-05\n",
      "Iteration 10[Done] delta=3.041038172160032e-05\n",
      "Iteration 11[Done] delta=2.6418075402233343e-06\n",
      "Iteration 12[Done] delta=9.045549017728909e-07\n",
      "Iteration 13[Done] delta=7.815354352569415e-08\n",
      "Iteration 14[Done] delta=1.8756850440893036e-08\n",
      "Iteration 15[Done] delta=5.230363003816407e-09\n",
      "Iteration 16[Done] delta=1.869841788348925e-09\n",
      "Iteration 17[Done] delta=7.479367151660976e-10\n",
      "Iteration 18[Done] delta=1.8698417900836484e-10\n",
      "Iteration 19[Done] delta=4.8203025772297625e-11\n",
      "Iteration 20[Done] delta=1.928121030891905e-11\n",
      "Iteration 21[Done] delta=1.6749952119754496e-12\n",
      "Iteration 22[Done] delta=5.735177957544302e-13\n",
      "Iteration 23[Done] delta=4.955064136780152e-14\n",
      "Iteration 24[Done] delta=1.189326415129699e-14\n",
      "Iteration 25[Done] delta=3.3150565625916784e-15\n",
      "Iteration 26[Done] delta=1.1839487723541708e-15\n",
      "Iteration 27[Done] delta=4.735795089416683e-16\n",
      "Iteration 28[Done] delta=1.1882855810441129e-16\n",
      "Iteration 29[Done] delta=5.551115123125783e-17\n",
      "Iteration 30[Done] delta=1.3877787807814457e-17\n",
      "Iteration 31[Done] delta=1.3010426069826053e-18\n",
      "Iteration 32[Done] delta=4.336808689942018e-19\n",
      "Iteration 33[Done] delta=0.0\n"
     ]
    }
   ],
   "source": [
    "result = iterateInplace(value, \n",
    "                       lambda: getGamblerStatesIter(goal), \n",
    "                       lambda s: getGamblerActionsIter(s,goal),\n",
    "                       lambda s,a: getGamblerTransitionsIter(s,a,goal,win_prob), \n",
    "                       gamma = 1.0, \n",
    "                       max_iter=40, \n",
    "                       Theta = np.float64(1.e-26))"
   ]
  },
  {
   "cell_type": "code",
   "execution_count": 151,
   "metadata": {},
   "outputs": [
    {
     "data": {
      "text/plain": [
       "[<matplotlib.lines.Line2D at 0x7f4bafa3f780>]"
      ]
     },
     "execution_count": 151,
     "metadata": {},
     "output_type": "execute_result"
    },
    {
     "data": {
      "image/png": "[encoded data removed]",
      "text/plain": [
       "<Figure size 432x288 with 1 Axes>"
      ]
     },
     "metadata": {
      "needs_background": "light"
     },
     "output_type": "display_data"
    }
   ],
   "source": [
    "value = result\n",
    "plt.plot(result[1:100])"
   ]
  },
  {
   "cell_type": "markdown",
   "metadata": {},
   "source": [
    "### Set of optimal policies"
   ]
  },
  {
   "cell_type": "code",
   "execution_count": 152,
   "metadata": {},
   "outputs": [],
   "source": [
    "policy = getAllPolicy(value,\n",
    "                   51,\n",
    "                   lambda: getGamblerStatesIter(goal), \n",
    "                   lambda s: getGamblerActionsIter(s,goal),\n",
    "                   lambda s,a: getGamblerTransitionsIter(s,a,goal,win_prob))"
   ]
  },
  {
   "cell_type": "code",
   "execution_count": 153,
   "metadata": {},
   "outputs": [
    {
     "data": {
      "text/plain": [
       "<matplotlib.collections.PolyCollection at 0x7f4baf99e390>"
      ]
     },
     "execution_count": 153,
     "metadata": {},
     "output_type": "execute_result"
    },
    {
     "data": {
      "image/png": "[encoded data removed]",
      "text/plain": [
       "<Figure size 432x288 with 1 Axes>"
      ]
     },
     "metadata": {
      "needs_background": "light"
     },
     "output_type": "display_data"
    }
   ],
   "source": [
    "plt.pcolor(policy.transpose())"
   ]
  },
  {
   "cell_type": "markdown",
   "metadata": {},
   "source": [
    "### Highest optimal policy"
   ]
  },
  {
   "cell_type": "code",
   "execution_count": 156,
   "metadata": {},
   "outputs": [
    {
     "data": {
      "text/plain": [
       "[<matplotlib.lines.Line2D at 0x7f4baef19668>]"
      ]
     },
     "execution_count": 156,
     "metadata": {},
     "output_type": "execute_result"
    },
    {
     "data": {
      "image/png": "[encoded data removed]",
      "text/plain": [
       "<Figure size 432x288 with 1 Axes>"
      ]
     },
     "metadata": {
      "needs_background": "light"
     },
     "output_type": "display_data"
    }
   ],
   "source": [
    "policy = getPolicy(value, \n",
    "                   lambda: getGamblerStatesIter(goal), \n",
    "                   lambda s: getGamblerActionsIter(s,goal),\n",
    "                   lambda s,a: getGamblerTransitionsIter(s,a,goal,win_prob),\n",
    "                   ActionAugmentation=np.finfo(np.float64).resolution)\n",
    "\n",
    "plt.plot(policy)"
   ]
  },
  {
   "cell_type": "markdown",
   "metadata": {},
   "source": [
    "### Lowest optimal policy"
   ]
  },
  {
   "cell_type": "code",
   "execution_count": 157,
   "metadata": {},
   "outputs": [
    {
     "data": {
      "text/plain": [
       "[<matplotlib.lines.Line2D at 0x7f4baf56ee48>]"
      ]
     },
     "execution_count": 157,
     "metadata": {},
     "output_type": "execute_result"
    },
    {
     "data": {
      "image/png": "[encoded data removed]",
      "text/plain": [
       "<Figure size 432x288 with 1 Axes>"
      ]
     },
     "metadata": {
      "needs_background": "light"
     },
     "output_type": "display_data"
    }
   ],
   "source": [
    "policy = getPolicy(value, \n",
    "                   lambda: getGamblerStatesIter(goal), \n",
    "                   lambda s: getGamblerActionsIter(s,goal),\n",
    "                   lambda s,a: getGamblerTransitionsIter(s,a,goal,win_prob),\n",
    "                   ActionAugmentation=-np.finfo(np.float64).resolution)\n",
    "\n",
    "plt.plot(policy)"
   ]
  },
  {
   "cell_type": "markdown",
   "metadata": {},
   "source": [
    "### Lowest nonzero optimal policy"
   ]
  },
  {
   "cell_type": "code",
   "execution_count": 160,
   "metadata": {},
   "outputs": [
    {
     "data": {
      "text/plain": [
       "[<matplotlib.lines.Line2D at 0x7f4baf53a400>]"
      ]
     },
     "execution_count": 160,
     "metadata": {},
     "output_type": "execute_result"
    },
    {
     "data": {
      "image/png": "[encoded data removed]",
      "text/plain": [
       "<Figure size 432x288 with 1 Axes>"
      ]
     },
     "metadata": {
      "needs_background": "light"
     },
     "output_type": "display_data"
    }
   ],
   "source": [
    "policy = getPolicy(value, \n",
    "                   lambda: getGamblerStatesIter(goal), \n",
    "                   lambda s: range(1, min(s, goal-s)+1),\n",
    "                   lambda s,a: getGamblerTransitionsIter(s,a,goal,win_prob),\n",
    "                   ActionAugmentation=-np.finfo(np.float64).resolution)\n",
    "\n",
    "plt.plot(policy)"
   ]
  },
  {
   "cell_type": "markdown",
   "metadata": {},
   "source": [
    "### Exercise 4.9"
   ]
  },
  {
   "cell_type": "code",
   "execution_count": 163,
   "metadata": {},
   "outputs": [
    {
     "name": "stdout",
     "output_type": "stream",
     "text": [
      "Iteration 1[Done] delta=0.822021484375\n",
      "Iteration 2[Done] delta=0.190673828125\n",
      "Iteration 3[Done] delta=0.042724609375\n",
      "Iteration 4[Done] delta=0.01068115234375\n",
      "Iteration 5[Done] delta=0.0026702880859375\n",
      "Iteration 6[Done] delta=0.000667572021484375\n",
      "Iteration 7[Done] delta=0.00011587142944335938\n",
      "Iteration 8[Done] delta=2.1725893020629883e-05\n",
      "Iteration 9[Done] delta=5.431473255157471e-06\n",
      "Iteration 10[Done] delta=1.3578683137893677e-06\n",
      "Iteration 11[Done] delta=3.394670784473419e-07\n",
      "Iteration 12[Done] delta=3.580316842999309e-08\n",
      "Iteration 13[Done] delta=6.713094080623705e-09\n",
      "Iteration 14[Done] delta=5.31016230986836e-10\n",
      "Iteration 15[Done] delta=1.32754057746709e-10\n",
      "Iteration 16[Done] delta=3.318851443667725e-11\n",
      "Iteration 17[Done] delta=6.222846023196116e-12\n",
      "Iteration 18[Done] delta=1.1667836835593803e-12\n",
      "Iteration 19[Done] delta=2.916959208898451e-13\n",
      "Iteration 20[Done] delta=7.292398022246127e-14\n",
      "Iteration 21[Done] delta=1.8230995055615318e-14\n",
      "Iteration 22[Done] delta=1.923808334858279e-15\n",
      "Iteration 23[Done] delta=3.608224830031759e-16\n",
      "Iteration 24[Done] delta=5.551115123125783e-17\n",
      "Iteration 25[Done] delta=1.3877787807814457e-17\n",
      "Iteration 26[Done] delta=1.8431436932253575e-18\n",
      "Iteration 27[Done] delta=4.336808689942018e-19\n",
      "Iteration 28[Done] delta=1.0842021724855044e-19\n",
      "Iteration 29[Done] delta=0.0\n"
     ]
    }
   ],
   "source": [
    "goal = 100\n",
    "win_prob = 0.25\n",
    "gamma = 1.0\n",
    "value = np.zeros(goal+1, dtype=np.float64)\n",
    "\n",
    "result_025 = iterateInplace(value, \n",
    "                       lambda: getGamblerStatesIter(goal), \n",
    "                       lambda s: getGamblerActionsIter(s,goal),\n",
    "                       lambda s,a: getGamblerTransitionsIter(s,a,goal,win_prob), \n",
    "                       gamma = 1.0, \n",
    "                       max_iter=40, \n",
    "                       Theta = np.float64(1.e-26))"
   ]
  },
  {
   "cell_type": "code",
   "execution_count": 164,
   "metadata": {},
   "outputs": [
    {
     "data": {
      "text/plain": [
       "[<matplotlib.lines.Line2D at 0x7f4baf0ae748>]"
      ]
     },
     "execution_count": 164,
     "metadata": {},
     "output_type": "execute_result"
    },
    {
     "data": {
      "image/png": "[encoded data removed]",
      "text/plain": [
       "<Figure size 432x288 with 1 Axes>"
      ]
     },
     "metadata": {
      "needs_background": "light"
     },
     "output_type": "display_data"
    }
   ],
   "source": [
    "plt.plot(result_025[1:100])"
   ]
  },
  {
   "cell_type": "code",
   "execution_count": 166,
   "metadata": {},
   "outputs": [
    {
     "data": {
      "text/plain": [
       "<matplotlib.collections.PolyCollection at 0x7f4baf5d90b8>"
      ]
     },
     "execution_count": 166,
     "metadata": {},
     "output_type": "execute_result"
    },
    {
     "data": {
      "image/png": "[encoded data removed]",
      "text/plain": [
       "<Figure size 432x288 with 1 Axes>"
      ]
     },
     "metadata": {
      "needs_background": "light"
     },
     "output_type": "display_data"
    }
   ],
   "source": [
    "policy_025 = getAllPolicy(result_025,\n",
    "                   51,\n",
    "                   lambda: getGamblerStatesIter(goal), \n",
    "                   lambda s: getGamblerActionsIter(s,goal),\n",
    "                   lambda s,a: getGamblerTransitionsIter(s,a,goal,win_prob))\n",
    "plt.pcolor(policy_025.transpose())"
   ]
  },
  {
   "cell_type": "code",
   "execution_count": null,
   "metadata": {},
   "outputs": [],
   "source": [
    "goal = 100\n",
    "win_prob = 0.55\n",
    "gamma = 1.0\n",
    "value = np.zeros(goal+1, dtype=np.float64)\n",
    "\n",
    "result_055 = iterateInplace(value, \n",
    "                       #lambda: getGamblerStatesIter(goal), \n",
    "                       lambda: range(99,0,-1),\n",
    "                       lambda s: getGamblerActionsIter(s,goal),\n",
    "                       lambda s,a: getGamblerTransitionsIter(s,a,goal,win_prob), \n",
    "                       gamma = 1.0, \n",
    "                       max_iter=2000, \n",
    "                       Theta = np.float64(1.e-16))"
   ]
  },
  {
   "cell_type": "code",
   "execution_count": 207,
   "metadata": {},
   "outputs": [
    {
     "data": {
      "text/plain": [
       "[<matplotlib.lines.Line2D at 0x7f4bad7bc0f0>]"
      ]
     },
     "execution_count": 207,
     "metadata": {},
     "output_type": "execute_result"
    },
    {
     "data": {
      "image/png": "[encoded data removed]",
      "text/plain": [
       "<Figure size 432x288 with 1 Axes>"
      ]
     },
     "metadata": {
      "needs_background": "light"
     },
     "output_type": "display_data"
    }
   ],
   "source": [
    "plt.plot(result_055[1:100])"
   ]
  },
  {
   "cell_type": "code",
   "execution_count": 208,
   "metadata": {},
   "outputs": [
    {
     "data": {
      "text/plain": [
       "<matplotlib.collections.PolyCollection at 0x7f4bad711cc0>"
      ]
     },
     "execution_count": 208,
     "metadata": {},
     "output_type": "execute_result"
    },
    {
     "data": {
      "image/png": "[encoded data removed]",
      "text/plain": [
       "<Figure size 432x288 with 1 Axes>"
      ]
     },
     "metadata": {
      "needs_background": "light"
     },
     "output_type": "display_data"
    }
   ],
   "source": [
    "policy_055 = getAllPolicy(result_055,\n",
    "                   51,\n",
    "                   lambda: getGamblerStatesIter(goal), \n",
    "                   lambda s: getGamblerActionsIter(s,goal),\n",
    "                   lambda s,a: getGamblerTransitionsIter(s,a,goal,win_prob))\n",
    "plt.pcolor(policy_055.transpose())"
   ]
  },
  {
   "cell_type": "markdown",
   "metadata": {},
   "source": [
    "### Exercise 4.10"
   ]
  },
  {
   "cell_type": "markdown",
   "metadata": {},
   "source": [
    "Answer:\n",
    "\\begin{equation*}\n",
    "q_{k+1}(s,a)=\\sum_{s',r}p(s',r|s,a)\\big[r+\\gamma \\max_{a'}q_{k}(s',a')\\big] \\\\\n",
    "\\end{equation*}"
   ]
  },
  {
   "cell_type": "markdown",
   "metadata": {},
   "source": [
    "### Testing and other stuff "
   ]
  },
  {
   "cell_type": "code",
   "execution_count": null,
   "metadata": {},
   "outputs": [],
   "source": [
    "def getQ(value, q, getStatesIter, getActionsIter, getStateTransitionsIter):\n",
    "    for state in getStatesIter():\n",
    "        for action in getActionsIter(state):\n",
    "            dist = getStateTransitionsIter(state,action)\n",
    "            q[state,action] = np.sum([prob*(reward + gamma*value[next_state])\n",
    "                           for next_state, prob, reward in dist])\n"
   ]
  },
  {
   "cell_type": "code",
   "execution_count": null,
   "metadata": {},
   "outputs": [],
   "source": [
    "result = iterateInplace(value, getGamblerStatesIter, all_actions,#getGamblerActionsIter,\n",
    "                  all_transitions, max_iter=100)#, Theta=0.001)"
   ]
  },
  {
   "cell_type": "code",
   "execution_count": null,
   "metadata": {},
   "outputs": [],
   "source": [
    "q_func = np.zeros(shape = (goal+1,goal+1,), dtype = np.float32)\n",
    "getQ(value, q_func, getGamblerStatesIter, getGamblerActionsIter, getGamblerTransitionsIter)\n",
    "plt.pcolor(q_func)"
   ]
  },
  {
   "cell_type": "code",
   "execution_count": 125,
   "metadata": {},
   "outputs": [],
   "source": [
    "state=10\n",
    "actions_num=51\n",
    "epsilon = np.finfo(np.float64).resolution\n",
    "qsa = np.ones(shape = (actions_num,), dtype=value.dtype) * np.finfo(np.float64).min\n",
    "for action in getGamblerActionsIter(state,100):\n",
    "            qsa[action] = np.sum([prob*(reward + gamma*value[next_state])\n",
    "                       for next_state, prob, reward \n",
    "                       in getGamblerTransitionsIter(state,action,100,0.4)]\n",
    "                      )\n",
    "qsa_max = max(qsa)\n",
    "p10 = qsa_max-epsilon <= qsa"
   ]
  }
 ],
 "metadata": {
  "kernelspec": {
   "display_name": "Python 3",
   "language": "python",
   "name": "python3"
  },
  "language_info": {
   "codemirror_mode": {
    "name": "ipython",
    "version": 3
   },
   "file_extension": ".py",
   "mimetype": "text/x-python",
   "name": "python",
   "nbconvert_exporter": "python",
   "pygments_lexer": "ipython3",
   "version": "3.6.7rc1"
  }
 },
 "nbformat": 4,
 "nbformat_minor": 2
}
