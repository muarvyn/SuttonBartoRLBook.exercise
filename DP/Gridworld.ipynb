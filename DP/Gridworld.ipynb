{
 "cells": [
  {
   "cell_type": "markdown",
   "metadata": {},
   "source": [
    "### Exercise 3.13"
   ]
  },
  {
   "cell_type": "markdown",
   "metadata": {},
   "source": [
    "\\begin{equation*}\n",
    "q_{\\pi }(s,a)=\\sum_{s',r}p(s',r|s,a)(r+\\gamma v_{\\pi}(s')) \\\\\n",
    "\\end{equation*}"
   ]
  },
  {
   "cell_type": "code",
   "execution_count": 20,
   "metadata": {},
   "outputs": [],
   "source": [
    "import numpy as np"
   ]
  },
  {
   "cell_type": "markdown",
   "metadata": {},
   "source": [
    "### Exercise 4.1"
   ]
  },
  {
   "cell_type": "markdown",
   "metadata": {},
   "source": [
    "The first two of 14 equations, for an example:"
   ]
  },
  {
   "cell_type": "markdown",
   "metadata": {},
   "source": [
    "\\begin{equation*}\n",
    "v_{1}=\\frac{1}{4} (-1+\\gamma v_{1})+\\frac{1}{4} (-1+\\gamma v_{2})+\\frac{1}{4} (-1+\\gamma v_{5})+\\frac{1}{4} (-1+0) \\\\\n",
    "v_{2}=\\frac{1}{4} (-1+\\gamma v_{1})+\\frac{1}{4} (-1+\\gamma v_{2})+\\frac{1}{4} (-1+\\gamma v_{3})+\\frac{1}{4} (-1+\\gamma v_{6}) \\\\\n",
    "\\end{equation*}"
   ]
  },
  {
   "cell_type": "markdown",
   "metadata": {},
   "source": [
    "rewrite it in a better way"
   ]
  },
  {
   "cell_type": "markdown",
   "metadata": {},
   "source": [
    "\\begin{equation*}\n",
    "4=(\\gamma -4) v_{1}+\\gamma v_{2}+\\gamma v_{5} \\\\\n",
    "4=\\gamma v_{1}+(\\gamma -4)v_{2})+\\gamma v_{3}+\\gamma v_{6} \\\\\n",
    "\\end{equation*}"
   ]
  },
  {
   "cell_type": "markdown",
   "metadata": {},
   "source": [
    "The matrix, corresponding to the all 14 equations"
   ]
  },
  {
   "cell_type": "code",
   "execution_count": 21,
   "metadata": {},
   "outputs": [],
   "source": [
    "# gamma\n",
    "g=1\n",
    "\n",
    "A = np.array(\n",
    "[\n",
    "#   1     2     3     4     5     6     7     8     9    10    11    12    13    14    \n",
    "   [g-4,  g,    0,    0,    g,    0,    0,    0,    0,    0,    0,    0,    0,    0],\n",
    "   [g,    g-4,  g,    0,    0,    g,    0,    0,    0,    0,    0,    0,    0,    0],\n",
    "   [0,    g,    2*g-4,0,    0,    0,    g,    0,    0,    0,    0,    0,    0,    0],\n",
    "   [0,    0,    0,    g-4,  g,    0,    0,    g,    0,    0,    0,    0,    0,    0],\n",
    "#5    \n",
    "   [g,    0,    0,    g,    -4,   g,    0,    0,    g,    0,    0,    0,    0,    0],\n",
    "   [0,    g,    0,    0,    g,    -4,   g,    0,    0,    g,    0,    0,    0,    0],\n",
    "   [0,    0,    g,    0,    0,    g,    g-4,  0,    0,    0,    g,    0,    0,    0],\n",
    "   [0,    0,    0,    g,    0,    0,    0,    g-4,  g,    0,    0,    g,    0,    0],\n",
    "   [0,    0,    0,    0,    g,    0,    0,    g,    -4,   g,    0,    0,    g,    0],\n",
    "#10    \n",
    "   [0,    0,    0,    0,    0,    g,    0,    0,    g,    -4,   g,    0,    0,    g],\n",
    "   [0,    0,    0,    0,    0,    0,    g,    0,    0,    g,    g-4,  0,    0,    0],\n",
    "   [0,    0,    0,    0,    0,    0,    0,    g,    0,    0,    0,    2*g-4,g,    0],\n",
    "   [0,    0,    0,    0,    0,    0,    0,    0,    g,    0,    0,    g,    g-4,  g],\n",
    "   [0,    0,    0,    0,    0,    0,    0,    0,    0,    g,    0,    0,    g,    g-4]\n",
    "]\n",
    ")"
   ]
  },
  {
   "cell_type": "markdown",
   "metadata": {},
   "source": [
    "Resolve it:"
   ]
  },
  {
   "cell_type": "code",
   "execution_count": 22,
   "metadata": {},
   "outputs": [],
   "source": [
    "Ainv = np.linalg.inv(A)\n",
    "V = np.matmul(Ainv, np.ones(shape=(14,1))*4)"
   ]
  },
  {
   "cell_type": "code",
   "execution_count": 23,
   "metadata": {},
   "outputs": [],
   "source": [
    "# State number starts form 1, but index starts from 0. Translate it:\n",
    "def value(s):\n",
    "    return V[s-1][0]"
   ]
  },
  {
   "cell_type": "markdown",
   "metadata": {},
   "source": [
    "\\begin{equation*}\n",
    "q_{\\pi }(11,\\texttt{down})=-1+\\gamma \\cdot 0 \\\\\n",
    "q_{\\pi }(7,\\texttt{down})=-1+\\gamma v_{11} \\\\\n",
    "\\end{equation*}\n",
    "(see solution for Exercise 3.13 above)"
   ]
  },
  {
   "cell_type": "code",
   "execution_count": 63,
   "metadata": {},
   "outputs": [
    {
     "name": "stdout",
     "output_type": "stream",
     "text": [
      "v11= -14.0\n"
     ]
    }
   ],
   "source": [
    "print(\"v11={:6.3}\".format(value(11)))"
   ]
  },
  {
   "cell_type": "code",
   "execution_count": 62,
   "metadata": {},
   "outputs": [
    {
     "data": {
      "text/markdown": [
       "$\\textbf{Answer:} $"
      ],
      "text/plain": [
       "<IPython.core.display.Markdown object>"
      ]
     },
     "metadata": {},
     "output_type": "display_data"
    },
    {
     "data": {
      "text/markdown": [
       "$q_{\\pi }(11,\\texttt{down})=-1 $"
      ],
      "text/plain": [
       "<IPython.core.display.Markdown object>"
      ]
     },
     "metadata": {},
     "output_type": "display_data"
    },
    {
     "data": {
      "text/markdown": [
       "$q_{\\pi }(7,\\texttt{down})= -15.0\\ $"
      ],
      "text/plain": [
       "<IPython.core.display.Markdown object>"
      ]
     },
     "metadata": {},
     "output_type": "display_data"
    }
   ],
   "source": [
    "from IPython.display import display, Markdown, Latex\n",
    "ans = r'$q_{\\pi }(7,\\texttt{down})=' + \"{:6.3}\".format(value(11)-1) + '\\\\ $'\n",
    "display(Markdown(r'$\\textbf{Answer:} $'),\n",
    "        Markdown(r'$q_{\\pi }(11,\\texttt{down})=-1 $'),\n",
    "        Markdown(ans)\n",
    "    )"
   ]
  },
  {
   "cell_type": "markdown",
   "metadata": {},
   "source": [
    "### Exercise 4.2"
   ]
  },
  {
   "cell_type": "markdown",
   "metadata": {},
   "source": [
    "I\n",
    "\\begin{equation*}\n",
    "v_{15}=\\frac{1}{4} (-1+\\gamma v_{12})+\\frac{1}{4} (-1+\\gamma v_{13})+\\frac{1}{4} (-1+\\gamma v_{14})+\\frac{1}{4} (-1+\\gamma v_{15}) \\\\\n",
    "(4-\\gamma )v_{15}=-4+\\gamma (v_{12}+v_{13}+v_{14})\n",
    "\\end{equation*}\n",
    "II\n",
    "\\begin{equation*}\n",
    "v_{13}=\\frac{1}{4} (-1+\\gamma v_{9})+\\frac{1}{4} (-1+\\gamma v_{12})+\\frac{1}{4} (-1+\\gamma v_{14})+\\frac{1}{4} (-1+\\gamma v_{15}) \\\\\n",
    "v_{15}=\\frac{1}{4} (-1+\\gamma v_{12})+\\frac{1}{4} (-1+\\gamma v_{13})+\\frac{1}{4} (-1+\\gamma v_{14})+\\frac{1}{4} (-1+\\gamma v_{15}) \\\\\n",
    "\\end{equation*}"
   ]
  },
  {
   "cell_type": "markdown",
   "metadata": {},
   "source": [
    "#### Answer I:"
   ]
  },
  {
   "cell_type": "code",
   "execution_count": 33,
   "metadata": {},
   "outputs": [
    {
     "name": "stdout",
     "output_type": "stream",
     "text": [
      " -20.0\n"
     ]
    }
   ],
   "source": [
    "print(\"{:6.3}\".format((value(12)+value(13)+value(14)-4)/3))"
   ]
  },
  {
   "cell_type": "code",
   "execution_count": 34,
   "metadata": {},
   "outputs": [],
   "source": [
    "A = np.array(\n",
    "[\n",
    "#   1     2     3     4     5     6     7     8     9    10    11    12    13    14    15\n",
    "   [g-4,  g,    0,    0,    g,    0,    0,    0,    0,    0,    0,    0,    0,    0,    0],\n",
    "   [g,    g-4,  g,    0,    0,    g,    0,    0,    0,    0,    0,    0,    0,    0,    0],\n",
    "   [0,    g,    2*g-4,0,    0,    0,    g,    0,    0,    0,    0,    0,    0,    0,    0],\n",
    "   [0,    0,    0,    g-4,  g,    0,    0,    g,    0,    0,    0,    0,    0,    0,    0],\n",
    "#5    \n",
    "   [g,    0,    0,    g,    -4,   g,    0,    0,    g,    0,    0,    0,    0,    0,    0],\n",
    "   [0,    g,    0,    0,    g,    -4,   g,    0,    0,    g,    0,    0,    0,    0,    0],\n",
    "   [0,    0,    g,    0,    0,    g,    g-4,  0,    0,    0,    g,    0,    0,    0,    0],\n",
    "   [0,    0,    0,    g,    0,    0,    0,    g-4,  g,    0,    0,    g,    0,    0,    0],\n",
    "   [0,    0,    0,    0,    g,    0,    0,    g,    -4,   g,    0,    0,    g,    0,    0],\n",
    "#10    \n",
    "   [0,    0,    0,    0,    0,    g,    0,    0,    g,    -4,   g,    0,    0,    g,    0],\n",
    "   [0,    0,    0,    0,    0,    0,    g,    0,    0,    g,    g-4,  0,    0,    0,    0],\n",
    "   [0,    0,    0,    0,    0,    0,    0,    g,    0,    0,    0,    2*g-4,g,    0,    0],\n",
    "   [0,    0,    0,    0,    0,    0,    0,    0,    g,    0,    0,    g,    -4,   g,    g],\n",
    "   [0,    0,    0,    0,    0,    0,    0,    0,    0,    g,    0,    0,    g,    g-4,  0],\n",
    "#15\n",
    "   [0,    0,    0,    0,    0,    0,    0,    0,    0,    0,    0,    g,    g,    g,    g-4]\n",
    "]\n",
    ")"
   ]
  },
  {
   "cell_type": "markdown",
   "metadata": {},
   "source": [
    "#### Answer II:"
   ]
  },
  {
   "cell_type": "code",
   "execution_count": 36,
   "metadata": {},
   "outputs": [
    {
     "name": "stdout",
     "output_type": "stream",
     "text": [
      " -20.0\n"
     ]
    }
   ],
   "source": [
    "Ainv = np.linalg.inv(A)\n",
    "V = np.matmul(Ainv, np.ones(shape=(15,1))*4)\n",
    "print(\"{:6.3}\".format(value(15)))"
   ]
  }
 ],
 "metadata": {
  "kernelspec": {
   "display_name": "Python 3",
   "language": "python",
   "name": "python3"
  },
  "language_info": {
   "codemirror_mode": {
    "name": "ipython",
    "version": 3
   },
   "file_extension": ".py",
   "mimetype": "text/x-python",
   "name": "python",
   "nbconvert_exporter": "python",
   "pygments_lexer": "ipython3",
   "version": "3.6.7rc1"
  }
 },
 "nbformat": 4,
 "nbformat_minor": 2
}
