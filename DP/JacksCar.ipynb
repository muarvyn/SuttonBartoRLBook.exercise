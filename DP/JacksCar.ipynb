{
 "cells": [
  {
   "cell_type": "code",
   "execution_count": 29,
   "metadata": {},
   "outputs": [],
   "source": [
    "import time\n",
    "from itertools import product\n",
    "import numpy as np\n",
    "from scipy.stats import poisson, skellam\n",
    "import matplotlib.pyplot as plt\n",
    "\n",
    "maxNumCounted = 25\n",
    "creditRate = 10\n",
    "transfer_cost = 2\n",
    "expectedRent1 = 3\n",
    "expectedReturn1 = 3\n",
    "expectedRent2 = 4\n",
    "expectedReturn2 = 2\n",
    "maxCarsAvail = 20\n",
    "maxCarsTransferred = 5"
   ]
  },
  {
   "cell_type": "code",
   "execution_count": 30,
   "metadata": {},
   "outputs": [],
   "source": [
    "def iterateInplace(value, getStatesIter, getActionsIter, getStateTransitionsIter, \n",
    "                 gamma=1.0, max_iter=None, Theta=np.finfo(np.float32).resolution):\n",
    "    it = 1\n",
    "    new_value = value\n",
    "    while True:\n",
    "        delta = 0.0\n",
    "        print(\"Iteration {}\".format(it), end=\"\", flush=True)\n",
    "        for state in getStatesIter():\n",
    "            print(str(state)+\"\\r\", end=\"\", flush=True)\n",
    "            v = value[state]\n",
    "            qsa = [np.sum([prob*(reward + gamma*value[next_state])\n",
    "                           for next_state, prob, reward \n",
    "                           in getStateTransitionsIter(state,action)]\n",
    "                         )\n",
    "                   for action in getActionsIter(state)]\n",
    "            new_value[state] = max(qsa)\n",
    "            delta = max(delta, abs(v-new_value[state]))\n",
    "        print(\"[Done] delta={}\".format(delta))\n",
    "        if max_iter and it >= max_iter or delta < Theta: break\n",
    "        it += 1\n",
    "    return new_value"
   ]
  },
  {
   "cell_type": "code",
   "execution_count": 69,
   "metadata": {},
   "outputs": [],
   "source": [
    "def evalDetermPolicy(value, policy, getStatesIter, getStateTransitionsIter, gamma, max_iter=None, Theta=1.0e-5):\n",
    "    it = 1\n",
    "    while True:\n",
    "        delta = 0\n",
    "        print(\"Iteration {}  \".format(it), end=\"\", flush=True)\n",
    "        for state in getStatesIter():\n",
    "            v = value[state]\n",
    "            action = policy[state]\n",
    "            value[state] = np.sum([prob*(reward + gamma*value[next_state])\n",
    "                           for next_state, prob, reward \n",
    "                           in getStateTransitionsIter(state,action)])\n",
    "            delta = max(delta, abs(v-value[state]))\n",
    "            print(\".\", end=\"\", flush=True)\n",
    "        print(\"\\n[Done] delta={}\".format(delta))\n",
    "        if max_iter and it >= max_iter or delta < Theta: break\n",
    "        it += 1\n",
    "    return value\n",
    "\n",
    "def evalDetermPolicy_2(value, policy, getStatesIter, getStateTransitionsSum, gamma, max_iter=None, Theta=1.0e-5):\n",
    "    it = 1\n",
    "    while True:\n",
    "        delta = 0\n",
    "        print(\"Iteration {}  \".format(it), end=\"\", flush=True)\n",
    "        for state in getStatesIter():\n",
    "            v = value[state]\n",
    "            action = policy[state]\n",
    "            value[state] = np.sum([w_reward + prob_sum*gamma*value[next_state]\n",
    "                           for next_state, prob_sum, w_reward\n",
    "                           in getStateTransitionsSum(state,action)])\n",
    "            delta = max(delta, abs(v-value[state]))\n",
    "            print(\".\", end=\"\", flush=True)\n",
    "        print(\"\\n[Done] delta={}\".format(delta))\n",
    "        if max_iter and it >= max_iter or delta < Theta: break\n",
    "        it += 1\n",
    "    return value\n"
   ]
  },
  {
   "cell_type": "code",
   "execution_count": 70,
   "metadata": {},
   "outputs": [],
   "source": [
    "poissonCache = np.array([[poisson.pmf(x,expect)\n",
    "                          for x in range(maxNumCounted+1)]\n",
    "                         for expect in range(expectedReturn2,expectedRent2+1)])\n",
    "\n",
    "def getPoisson(n,e):\n",
    "    return poissonCache[e-expectedReturn2, n]\n",
    "\n",
    "returned_prob = np.array([[getPoisson(returned1, expectedReturn1) * \n",
    "                        getPoisson(returned2, expectedReturn2)\n",
    "                        for returned2 in range(maxNumCounted+1)] \n",
    "                        for returned1 in range(maxNumCounted+1)]\n",
    "                        )\n",
    "rented_prob = np.array([[getPoisson(rented1, expectedRent1) * \n",
    "                        getPoisson(rented2, expectedRent2)\n",
    "                        for rented2 in range(maxNumCounted+1)]\n",
    "                        for rented1 in range(maxNumCounted+1)]\n",
    "                      )\n",
    "\n",
    "def getJacksCarTransitions(cars_left, transfer):\n",
    "    cars1, cars2 = cars_left\n",
    "    if cars1 < transfer or cars2 < -transfer:\n",
    "        return\n",
    "    cars_avail_1 = cars1-transfer\n",
    "    cars_avail_2 = cars2+transfer\n",
    "    \n",
    "    for returned1,returned2 in product(range(maxNumCounted+1), range(maxNumCounted+1)):\n",
    "        c1 = min(cars_avail_1+returned1, maxCarsAvail)\n",
    "        c2 = min(cars_avail_2+returned2, maxCarsAvail)\n",
    "        for rented1,rented2 in product(range(maxNumCounted+1), range(maxNumCounted+1)):\n",
    "            left_1 = max(0,c1-rented1)\n",
    "            left_2 = max(0,c2-rented2)\n",
    "            yield ((max(0,c1-rented1), max(0,c2-rented2)),\n",
    "                returned_prob[returned1,returned2] * rented_prob[rented1,rented2],\n",
    "                creditRate*(c1+c2 - (left_1+left_2)) - transfer_cost*abs(transfer)\n",
    "                  )"
   ]
  },
  {
   "cell_type": "code",
   "execution_count": 27,
   "metadata": {},
   "outputs": [
    {
     "data": {
      "text/plain": [
       "(456976, 0.9999999999997595)"
      ]
     },
     "execution_count": 27,
     "metadata": {},
     "output_type": "execute_result"
    }
   ],
   "source": [
    "l = [p for s,p,r in getJacksCarTransitions((1,1),0)]\n",
    "len(l), np.sum(l)"
   ]
  },
  {
   "cell_type": "code",
   "execution_count": 76,
   "metadata": {},
   "outputs": [],
   "source": [
    "value = np.zeros((maxCarsAvail+1,maxCarsAvail+1), dtype=np.float64)\n",
    "policy = np.zeros((maxCarsAvail+1,maxCarsAvail+1), dtype=np.int8)"
   ]
  },
  {
   "cell_type": "code",
   "execution_count": null,
   "metadata": {},
   "outputs": [],
   "source": [
    "v = evalDetermPolicy_2(value,\n",
    "               policy,\n",
    "               lambda : product(range(maxCarsAvail+1),range(maxCarsAvail+1)),\n",
    "               cache_3, #getJacksCarTransitions_3,\n",
    "               gamma=0.9,\n",
    "               max_iter=40,\n",
    "               Theta=0.01\n",
    "              )"
   ]
  },
  {
   "cell_type": "code",
   "execution_count": null,
   "metadata": {},
   "outputs": [],
   "source": [
    "iterateInplace(value, \n",
    "               lambda : product(range(maxCarsAvail+1),range(maxCarsAvail+1)),\n",
    "               lambda s: range(-s[1], s[0]+1),\n",
    "               getJacksCarTransitions,\n",
    "               gamma=0.9,\n",
    "               max_iter=1\n",
    "              )"
   ]
  },
  {
   "cell_type": "code",
   "execution_count": 34,
   "metadata": {},
   "outputs": [],
   "source": [
    "def getJacksCarTransitions_2(cars_left, transfer):\n",
    "    cars1, cars2 = cars_left\n",
    "    if cars1 < transfer or cars2 < -transfer:\n",
    "        return\n",
    "    cars_avail_1 = cars1-transfer\n",
    "    cars_avail_2 = cars2+transfer\n",
    "    \n",
    "    for returned1 in range(maxCarsAvail-cars_avail_1+1):\n",
    "        ret1_prob = getPoisson(returned1,expectedReturn1)\n",
    "        if returned1 == maxCarsAvail-cars_avail_1:\n",
    "            ret1_prob += np.sum([getPoisson(r1,expectedReturn1) \n",
    "                                 for r1 in range(returned1+1, maxNumCounted+1)])\n",
    "            \n",
    "        for returned2 in range(maxCarsAvail-cars_avail_2+1):\n",
    "            ret2_prob = getPoisson(returned2,expectedReturn2)\n",
    "            if returned2 == maxCarsAvail-cars_avail_2:\n",
    "                ret2_prob += np.sum([getPoisson(r2,expectedReturn2) \n",
    "                                     for r2 in range(returned2+1, maxNumCounted+1)])\n",
    "\n",
    "            c1 = cars_avail_1+returned1\n",
    "            c2 = cars_avail_2+returned2\n",
    "            for rented1,rented2 in product(range(maxNumCounted+1), range(maxNumCounted+1)):\n",
    "                left_1 = max(0,c1-rented1)\n",
    "                left_2 = max(0,c2-rented2)\n",
    "                yield ((max(0,c1-rented1), max(0,c2-rented2)),\n",
    "                    ret1_prob * ret2_prob * rented_prob[rented1,rented2],\n",
    "                    creditRate*(c1+c2 - (left_1+left_2)) - transfer_cost*abs(transfer)\n",
    "                      )"
   ]
  },
  {
   "cell_type": "code",
   "execution_count": 12,
   "metadata": {},
   "outputs": [],
   "source": [
    "def getJacksCarTransitions_3(cars_left, transfer):\n",
    "    cars1, cars2 = cars_left\n",
    "    if cars1 < transfer or cars2 < -transfer:\n",
    "        return\n",
    "    cars_avail_1 = cars1-transfer\n",
    "    cars_avail_2 = cars2+transfer\n",
    "    \n",
    "    for returned1 in range(maxCarsAvail-cars_avail_1+1):\n",
    "        ret1_prob = getPoisson(returned1,expectedReturn1)\n",
    "        if returned1 == maxCarsAvail-cars_avail_1:\n",
    "            ret1_prob += np.sum([getPoisson(r1,expectedReturn1) \n",
    "                                 for r1 in range(returned1+1, maxNumCounted+1)])\n",
    "            \n",
    "        for returned2 in range(maxCarsAvail-cars_avail_2+1):\n",
    "            ret2_prob = getPoisson(returned2,expectedReturn2)\n",
    "            if returned2 == maxCarsAvail-cars_avail_2:\n",
    "                ret2_prob += np.sum([getPoisson(r2,expectedReturn2)\n",
    "                                     for r2 in range(returned2+1, maxNumCounted+1)])\n",
    "\n",
    "            c1 = cars_avail_1+returned1\n",
    "            c2 = cars_avail_2+returned2\n",
    "            for rented1 in range(c1+1):\n",
    "                rent1_prob = getPoisson(rented1, expectedRent1)\n",
    "                if (rented1 == c1):\n",
    "                    rent1_prob += np.sum([getPoisson(r1,expectedRent1)\n",
    "                                 for r1 in range(rented1+1, maxNumCounted+1)])\n",
    "                    \n",
    "                for rented2 in range(c2+1):\n",
    "                    rent2_prob = getPoisson(rented2, expectedRent2)\n",
    "                    if (rented2 == c2):\n",
    "                        rent2_prob += np.sum([getPoisson(r2,expectedRent2)\n",
    "                                     for r2 in range(rented2+1, maxNumCounted+1)])\n",
    "                    \n",
    "                    left_1 = c1-rented1\n",
    "                    left_2 = c2-rented2\n",
    "                    yield ((left_1, left_2),\n",
    "                        ret1_prob * ret2_prob * rent1_prob * rent2_prob,\n",
    "                        creditRate*(rented1+rented2) - transfer_cost*abs(transfer)\n",
    "                          )"
   ]
  },
  {
   "cell_type": "code",
   "execution_count": 74,
   "metadata": {},
   "outputs": [],
   "source": [
    "def compileDistribution(state, action, getStateTransitionsIter):\n",
    "    summary = np.zeros(shape=(maxCarsAvail+1,maxCarsAvail+1,2), dtype=np.float64)\n",
    "    for next_state, prob, reward in getStateTransitionsIter(state,action):\n",
    "        summary[next_state] += [prob, prob*reward]\n",
    "        \n",
    "    # normalize weighted reward by probability of next state\n",
    "    #for s in summary:\n",
    "    #    s[1] /= s[0]\n",
    "        \n",
    "    return summary\n",
    "\n",
    "class getJacksCarCachedTransitionsSummary:\n",
    "    \n",
    "    def __init__(self, getStateTransitionsIter):\n",
    "        self.store = {}\n",
    "        self.get_trans = getStateTransitionsIter\n",
    "        \n",
    "    def __call__(self, state, action):\n",
    "        key = state,action\n",
    "        if not key in self.store:\n",
    "            summary_dist = compileDistribution(state, action, self.get_trans)\n",
    "            self.store[key] = summary_dist\n",
    "        else:\n",
    "            summary_dist = self.store[key]\n",
    "            \n",
    "        return [(enum,)+tuple(summary_dist[enum]) for enum in np.ndindex(summary_dist.shape[:-1])]\n",
    "\n",
    "cache_3 = getJacksCarCachedTransitionsSummary(getJacksCarTransitions_3)\n",
    "cache = getJacksCarCachedTransitionsSummary(getJacksCarTransitions)"
   ]
  },
  {
   "cell_type": "code",
   "execution_count": null,
   "metadata": {},
   "outputs": [],
   "source": [
    "cache_3((1,1),0)"
   ]
  },
  {
   "cell_type": "code",
   "execution_count": 44,
   "metadata": {},
   "outputs": [],
   "source": [
    "value_3 = np.zeros((maxCarsAvail+1,maxCarsAvail+1), dtype=np.float64)"
   ]
  },
  {
   "cell_type": "code",
   "execution_count": null,
   "metadata": {},
   "outputs": [],
   "source": [
    "v = iterateInplace(value,\n",
    "               lambda : product(range(maxCarsAvail+1),range(maxCarsAvail+1)),\n",
    "               lambda s: range(-s[1], s[0]+1),\n",
    "               getJacksCarTransitions_3,\n",
    "               gamma=0.9,\n",
    "               max_iter=4\n",
    "              )"
   ]
  },
  {
   "cell_type": "code",
   "execution_count": 42,
   "metadata": {},
   "outputs": [
    {
     "data": {
      "text/plain": [
       "(52668, 0.9999999999997595)"
      ]
     },
     "execution_count": 42,
     "metadata": {},
     "output_type": "execute_result"
    }
   ],
   "source": [
    "l = [p for s,p,r in getJacksCarTransitions_3((1,1),1)]\n",
    "len(l), np.sum(l)"
   ]
  },
  {
   "cell_type": "code",
   "execution_count": 80,
   "metadata": {},
   "outputs": [
    {
     "data": {
      "text/plain": [
       "451.88009257681296"
      ]
     },
     "execution_count": 80,
     "metadata": {},
     "output_type": "execute_result"
    }
   ],
   "source": [
    "np.min(v)"
   ]
  }
 ],
 "metadata": {
  "kernelspec": {
   "display_name": "Python 3",
   "language": "python",
   "name": "python3"
  },
  "language_info": {
   "codemirror_mode": {
    "name": "ipython",
    "version": 3
   },
   "file_extension": ".py",
   "mimetype": "text/x-python",
   "name": "python",
   "nbconvert_exporter": "python",
   "pygments_lexer": "ipython3",
   "version": "3.6.7rc1"
  }
 },
 "nbformat": 4,
 "nbformat_minor": 2
}
