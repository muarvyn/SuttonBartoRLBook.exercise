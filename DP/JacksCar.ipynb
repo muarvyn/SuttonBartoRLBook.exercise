{
 "cells": [
  {
   "cell_type": "code",
   "execution_count": 1,
   "metadata": {},
   "outputs": [],
   "source": [
    "import time\n",
    "from itertools import product\n",
    "import numpy as np\n",
    "from scipy.stats import poisson, skellam\n",
    "import matplotlib.pyplot as plt\n",
    "\n",
    "maxNumCounted = 28\n",
    "creditRate = 10\n",
    "transfer_cost = 2\n",
    "expectedRent1 = 3\n",
    "expectedReturn1 = 3\n",
    "expectedRent2 = 4\n",
    "expectedReturn2 = 2\n",
    "maxCarsAvail = 20\n",
    "maxCarsTransferred = 5\n",
    "states_num = (maxCarsAvail+1)*(maxCarsAvail+1)"
   ]
  },
  {
   "cell_type": "code",
   "execution_count": 2,
   "metadata": {},
   "outputs": [],
   "source": [
    "def iterateInplace(value, getStatesIter, getActionsIter, getStateTransitionsIter, \n",
    "                 gamma=1.0, max_iter=None, Theta=np.finfo(np.float32).resolution):\n",
    "    it = 1\n",
    "    new_value = value\n",
    "    while True:\n",
    "        delta = 0.0\n",
    "        print(\"Iteration {}\".format(it), end=\"\", flush=True)\n",
    "        for state in getStatesIter():\n",
    "            print(str(state)+\"\\r\", end=\"\", flush=True)\n",
    "            v = value[state]\n",
    "            qsa = [np.sum([prob*(reward + gamma*value[next_state])\n",
    "                           for next_state, prob, reward \n",
    "                           in getStateTransitionsIter(state,action)]\n",
    "                         )\n",
    "                   for action in getActionsIter(state)]\n",
    "            new_value[state] = max(qsa)\n",
    "            delta = max(delta, abs(v-new_value[state]))\n",
    "        print(\"[Done] delta={}\".format(delta))\n",
    "        if max_iter and it >= max_iter or delta < Theta: break\n",
    "        it += 1\n",
    "    return new_value"
   ]
  },
  {
   "cell_type": "code",
   "execution_count": 3,
   "metadata": {},
   "outputs": [],
   "source": [
    "def evalDetermPolicy(value, policy, getStatesIter, getStateTransitionsIter, gamma, max_iter=None, Theta=1.0e-5):\n",
    "    it = 1\n",
    "    startTime = time.time()\n",
    "    while True:\n",
    "        lap_time = time.time()\n",
    "        delta = 0\n",
    "        print(\"Iteration {}  \".format(it), end=\"\", flush=True)\n",
    "        for step,state in enumerate(getStatesIter()):\n",
    "            v = value[state]\n",
    "            action = policy[state]\n",
    "            value[state] = np.sum([prob*(reward + gamma*value[next_state])\n",
    "                           for next_state, prob, reward \n",
    "                           in getStateTransitionsIter(state,action)])\n",
    "            delta = max(delta, abs(v-value[state]))\n",
    "            if time.time()-lap_time >= 10:\n",
    "                print(\"\\rIteration {}; Progress {:4.1f}%\".format(it, float(step)/states_num*100), \n",
    "                      end=\"\", flush=True)\n",
    "                lap_time = time.time()        \n",
    "        print(\"\\n[Done] delta={}\".format(delta))\n",
    "        if max_iter and it >= max_iter or delta < Theta: break\n",
    "        it += 1\n",
    "    return value\n",
    "\n",
    "def evalDetermPolicy_2(value, policy, getStatesIter, getStateTransitionsDist, gamma, max_iter=None, Theta=1.0e-5):\n",
    "    it = 1\n",
    "    startTime = time.time()\n",
    "    while True:\n",
    "        lap_time = time.time()\n",
    "        delta = 0\n",
    "        print(\"Iteration {}  \".format(it), end=\"\", flush=True)\n",
    "        for step, state in enumerate(getStatesIter()):\n",
    "            action = policy[state]\n",
    "            sum_reward, dist = getStateTransitionsDist(state,action)\n",
    "            v = sum_reward + gamma*np.tensordot(dist,value)\n",
    "            delta = max(delta, abs(v-value[state]))\n",
    "            value[state] = v\n",
    "            if time.time()-lap_time >= 10:\n",
    "                print(\"\\rIteration {}; Progress {:4.1f}%\".format(it, float(step)/states_num*100), \n",
    "                      end=\"\", flush=True)\n",
    "                lap_time = time.time()\n",
    "        print(\"\\n[Done] in {:5.4} sec; delta={}\".format(time.time()-startTime, delta))\n",
    "        if max_iter and it >= max_iter or delta < Theta: break\n",
    "        it += 1\n",
    "    return value\n",
    "\n",
    "def improvePolicy_2(value, policy, getStatesIter, getActionsIter, \n",
    "                  getStateTransitionsDist, gamma):\n",
    "    policy_stable = True\n",
    "    startTime = time.time()\n",
    "    lap_time = startTime\n",
    "    print(\"Improving policy.\", end=\"\", flush=True)\n",
    "    for step,state in enumerate(getStatesIter()):\n",
    "        old_action = policy[state]\n",
    "        max_qsa = np.finfo(np.float32).min\n",
    "        for action in getActionsIter(state):\n",
    "            sum_reward, dist = getStateTransitionsDist(state,action)\n",
    "            qsa = sum_reward + gamma*np.tensordot(dist,value)\n",
    "\n",
    "            if qsa > max_qsa:\n",
    "                max_qsa = qsa\n",
    "                max_action = action\n",
    "\n",
    "        policy[state] = max_action\n",
    "        policy_stable = policy_stable and max_action == old_action\n",
    "        if time.time()-lap_time >= 10:\n",
    "            print(\"\\rImproving policy. Progress {:4.1f}%\".format(float(step)/states_num*100), \n",
    "                  end=\"\", flush=True)\n",
    "            lap_time = time.time()\n",
    "        \n",
    "    print(\"\\n[Done in {:5.4} sec]\".format(time.time()-startTime))\n",
    "    return policy_stable"
   ]
  },
  {
   "cell_type": "code",
   "execution_count": 4,
   "metadata": {},
   "outputs": [],
   "source": [
    "def improvePolicy(value, policy, getStatesIter, getActionsIter, \n",
    "                  getStateTransitionsSummary, gamma):\n",
    "    policy_stable = True\n",
    "    startTime = time.time()\n",
    "    lap_time = startTime\n",
    "    print(\"Improving policy \", end=\"\", flush=True)\n",
    "    for step,state in enumerate(getStatesIter()):\n",
    "        old_action = policy[state]\n",
    "        max_qsa = np.finfo(np.float32).min\n",
    "        for action in getActionsIter(state):\n",
    "            qsa = np.sum([w_reward + prob_sum*gamma*value[next_state]\n",
    "                           for next_state, prob_sum, w_reward\n",
    "                           in getStateTransitionsSummary(state,action)])\n",
    "\n",
    "            if qsa > max_qsa:\n",
    "                max_qsa = qsa\n",
    "                max_action = action\n",
    "\n",
    "        policy[state] = max_action\n",
    "        policy_stable = policy_stable and max_action == old_action\n",
    "        if time.time()-lap_time >= 10:\n",
    "            print(\"\\rImproving policy. Progress {:4.1f}%\".format(float(step)/states_num*100), \n",
    "                  end=\"\", flush=True)\n",
    "            lap_time = time.time()\n",
    "        \n",
    "    print(\"\\n[Done in {:5.4} sec]\".format(time.time()-startTime))\n",
    "    return policy_stable"
   ]
  },
  {
   "cell_type": "code",
   "execution_count": 5,
   "metadata": {},
   "outputs": [],
   "source": [
    "poissonCache = np.array([[poisson.pmf(x,expect)\n",
    "                          for x in range(maxNumCounted+1)]\n",
    "                         for expect in range(expectedReturn2,expectedRent2+1)],\n",
    "                        dtype=np.float64)\n",
    "\n",
    "def getPoisson(n,e):\n",
    "    return poissonCache[e-expectedReturn2, n]\n",
    "\n",
    "returned_prob = np.array([[getPoisson(returned1, expectedReturn1) * \n",
    "                        getPoisson(returned2, expectedReturn2)\n",
    "                        for returned2 in range(maxNumCounted+1)] \n",
    "                        for returned1 in range(maxNumCounted+1)],\n",
    "                        dtype=np.float64)\n",
    "rented_prob = np.array([[getPoisson(rented1, expectedRent1) * \n",
    "                        getPoisson(rented2, expectedRent2)\n",
    "                        for rented2 in range(maxNumCounted+1)]\n",
    "                        for rented1 in range(maxNumCounted+1)],\n",
    "                      dtype=np.float64)\n",
    "\n",
    "def getJacksCarTransitions(cars_left, transfer):\n",
    "    cars1, cars2 = cars_left\n",
    "    if cars1 < transfer or cars2 < -transfer:\n",
    "        return\n",
    "    cars_avail_1 = cars1-transfer\n",
    "    cars_avail_2 = cars2+transfer\n",
    "    \n",
    "    for returned1,returned2 in product(range(maxNumCounted+1), range(maxNumCounted+1)):\n",
    "        c1 = min(cars_avail_1+returned1, maxCarsAvail)\n",
    "        c2 = min(cars_avail_2+returned2, maxCarsAvail)\n",
    "        for rented1,rented2 in product(range(maxNumCounted+1), range(maxNumCounted+1)):\n",
    "            left_1 = max(0,c1-rented1)\n",
    "            left_2 = max(0,c2-rented2)\n",
    "            yield ((max(0,c1-rented1), max(0,c2-rented2)),\n",
    "                returned_prob[returned1,returned2] * rented_prob[rented1,rented2],\n",
    "                creditRate*(c1+c2 - (left_1+left_2)) - transfer_cost*abs(transfer)\n",
    "                  )\n",
    "\n",
    "getActionsIter = \\\n",
    "    lambda s: range(max(-s[1],-maxCarsTransferred), min(s[0],maxCarsTransferred)+1)\n"
   ]
  },
  {
   "cell_type": "code",
   "execution_count": 152,
   "metadata": {},
   "outputs": [
    {
     "data": {
      "text/plain": [
       "(21, 0.9999999999999991)"
      ]
     },
     "execution_count": 152,
     "metadata": {},
     "output_type": "execute_result"
    }
   ],
   "source": [
    "#l = [p for s,p,r in getJacksCarTransitions((1,1),0)]\n",
    "l = [p for p in cache_3((5,9),2)[1]]\n",
    "len(l), np.sum(l)"
   ]
  },
  {
   "cell_type": "code",
   "execution_count": 20,
   "metadata": {},
   "outputs": [],
   "source": [
    "value = np.zeros((maxCarsAvail+1,maxCarsAvail+1), dtype=np.float64)\n",
    "policy = np.zeros((maxCarsAvail+1,maxCarsAvail+1), dtype=np.int8)"
   ]
  },
  {
   "cell_type": "code",
   "execution_count": null,
   "metadata": {},
   "outputs": [],
   "source": [
    "v = evalDetermPolicy_2(value,\n",
    "               policy,\n",
    "               lambda : product(range(maxCarsAvail+1),range(maxCarsAvail+1)),\n",
    "               getCachedDist, #getJacksCarTransitionsDist, #cache_3, #getJacksCarTransitionsDist, \n",
    "               gamma=0.9,\n",
    "               max_iter=15,\n",
    "               Theta=0.01\n",
    "              )"
   ]
  },
  {
   "cell_type": "code",
   "execution_count": 43,
   "metadata": {},
   "outputs": [
    {
     "name": "stdout",
     "output_type": "stream",
     "text": [
      "Iteration 1; Progress 86.5%\n",
      "[Done] delta=215.51885571937407\n"
     ]
    }
   ],
   "source": [
    "v = evalDetermPolicy(value,\n",
    "               policy,\n",
    "               lambda : product(range(maxCarsAvail+1),range(maxCarsAvail+1)),\n",
    "               getJacksCarTransitions_3, \n",
    "               gamma=0.9,\n",
    "               max_iter=1,\n",
    "               Theta=0.1\n",
    "              )"
   ]
  },
  {
   "cell_type": "markdown",
   "metadata": {},
   "source": [
    "### Compete Policy Iteration"
   ]
  },
  {
   "cell_type": "code",
   "execution_count": null,
   "metadata": {},
   "outputs": [],
   "source": [
    "value = np.zeros((maxCarsAvail+1,maxCarsAvail+1), dtype=np.float64)\n",
    "policy = np.zeros((maxCarsAvail+1,maxCarsAvail+1), dtype=np.int8)\n",
    "policy_iterations = []\n",
    "\n",
    "while True:\n",
    "    v = evalDetermPolicy_2(\n",
    "               value,\n",
    "               policy,\n",
    "               lambda : product(range(maxCarsAvail+1),range(maxCarsAvail+1)),\n",
    "               getCachedDist, #getJacksCarTransitionsDist, #cache_3, #getJacksCarTransitionsDist, \n",
    "               gamma=0.9,\n",
    "               max_iter=15,\n",
    "               Theta=0.01\n",
    "              )\n",
    "    policy_iterations.append(policy.copy())\n",
    "    \n",
    "    if improvePolicy_2(\n",
    "              value,\n",
    "              policy,\n",
    "              lambda : product(range(maxCarsAvail+1),range(maxCarsAvail+1)),\n",
    "              getActionsIter,\n",
    "              getCachedDist, #getJacksCarTransitionsDist, #cache_3,\n",
    "              gamma=0.9\n",
    "              ):\n",
    "        break"
   ]
  },
  {
   "cell_type": "markdown",
   "metadata": {},
   "source": [
    "### Draw the value function"
   ]
  },
  {
   "cell_type": "code",
   "execution_count": 73,
   "metadata": {},
   "outputs": [
    {
     "data": {
      "image/png": "[encoded data removed]",
      "text/plain": [
       "<Figure size 432x288 with 1 Axes>"
      ]
     },
     "metadata": {
      "needs_background": "light"
     },
     "output_type": "display_data"
    }
   ],
   "source": [
    "from matplotlib import cm\n",
    "from mpl_toolkits.mplot3d import Axes3D\n",
    "\n",
    "X = np.arange(0, 21, 1)\n",
    "Y = np.arange(0, 21, 1)\n",
    "X, Y = np.meshgrid(X, Y)\n",
    "\n",
    "it = zip(X.ravel(), Y.ravel())\n",
    "\n",
    "fig = plt.figure()\n",
    "ax = Axes3D(fig)\n",
    "ax.plot_surface(X, Y, v, rstride=1, cstride=1, cmap=cm.viridis)\n",
    "\n",
    "plt.show()"
   ]
  },
  {
   "cell_type": "code",
   "execution_count": 74,
   "metadata": {},
   "outputs": [
    {
     "data": {
      "text/plain": [
       "(480.60886190087746, 639.9782085667744)"
      ]
     },
     "execution_count": 74,
     "metadata": {},
     "output_type": "execute_result"
    }
   ],
   "source": [
    "np.min(value), np.max(value)"
   ]
  },
  {
   "cell_type": "code",
   "execution_count": 112,
   "metadata": {},
   "outputs": [
    {
     "name": "stdout",
     "output_type": "stream",
     "text": [
      "Improving policy. Progress 96.4%\n",
      "[Done in 20.87 sec]\n"
     ]
    },
    {
     "data": {
      "text/plain": [
       "'Is policy stable? - True'"
      ]
     },
     "execution_count": 112,
     "metadata": {},
     "output_type": "execute_result"
    }
   ],
   "source": [
    "\"Is policy stable? - {}\".format \\\n",
    "(improvePolicy_2(value,\n",
    "              policy,\n",
    "              lambda : product(range(maxCarsAvail+1),range(maxCarsAvail+1)),\n",
    "              getActionsIter,\n",
    "              getJacksCarTransitionsDist, #cache_3,\n",
    "              gamma=0.9\n",
    "              ))"
   ]
  },
  {
   "cell_type": "code",
   "execution_count": 82,
   "metadata": {},
   "outputs": [
    {
     "name": "stdout",
     "output_type": "stream",
     "text": [
      "Improving policy. Progress 95.5%\n",
      "[Done in 143.9 sec]\n"
     ]
    },
    {
     "data": {
      "text/plain": [
       "False"
      ]
     },
     "execution_count": 82,
     "metadata": {},
     "output_type": "execute_result"
    }
   ],
   "source": [
    "improvePolicy(value,\n",
    "              policy,\n",
    "              lambda : product(range(maxCarsAvail+1), repeat=2),\n",
    "              getActionsIter,\n",
    "              getJacksCarTransitions_3,\n",
    "              gamma=0.9\n",
    "              )"
   ]
  },
  {
   "cell_type": "code",
   "execution_count": 6,
   "metadata": {},
   "outputs": [],
   "source": [
    "def getJacksCarTransitions_2(cars_left, transfer):\n",
    "    cars1, cars2 = cars_left\n",
    "    if cars1 < transfer or cars2 < -transfer:\n",
    "        return\n",
    "    cars_avail_1 = cars1-transfer\n",
    "    cars_avail_2 = cars2+transfer\n",
    "    \n",
    "    for returned1 in range(maxCarsAvail-cars_avail_1+1):\n",
    "        ret1_prob = getPoisson(returned1,expectedReturn1)\n",
    "        if returned1 == maxCarsAvail-cars_avail_1:\n",
    "            ret1_prob += np.sum([getPoisson(r1,expectedReturn1) \n",
    "                                 for r1 in range(returned1+1, maxNumCounted+1)])\n",
    "            \n",
    "        for returned2 in range(maxCarsAvail-cars_avail_2+1):\n",
    "            ret2_prob = getPoisson(returned2,expectedReturn2)\n",
    "            if returned2 == maxCarsAvail-cars_avail_2:\n",
    "                ret2_prob += np.sum([getPoisson(r2,expectedReturn2) \n",
    "                                     for r2 in range(returned2+1, maxNumCounted+1)])\n",
    "\n",
    "            c1 = cars_avail_1+returned1\n",
    "            c2 = cars_avail_2+returned2\n",
    "            for rented1,rented2 in product(range(maxNumCounted+1), range(maxNumCounted+1)):\n",
    "                left_1 = max(0,c1-rented1)\n",
    "                left_2 = max(0,c2-rented2)\n",
    "                yield ((max(0,c1-rented1), max(0,c2-rented2)),\n",
    "                    ret1_prob * ret2_prob * rented_prob[rented1,rented2],\n",
    "                    creditRate*(c1+c2 - (left_1+left_2)) - transfer_cost*abs(transfer)\n",
    "                      )"
   ]
  },
  {
   "cell_type": "code",
   "execution_count": 7,
   "metadata": {},
   "outputs": [],
   "source": [
    "def getJacksCarTransitions_3(cars_left, transfer):\n",
    "    cars1, cars2 = cars_left\n",
    "    if cars1 < transfer or cars2 < -transfer:\n",
    "        return\n",
    "    cars_avail_1 = cars1-transfer\n",
    "    cars_avail_2 = cars2+transfer\n",
    "    \n",
    "    for returned1 in range(maxCarsAvail-cars_avail_1+1):\n",
    "        ret1_prob = getPoisson(returned1,expectedReturn1)\n",
    "        if returned1 == maxCarsAvail-cars_avail_1:\n",
    "            ret1_prob += np.sum([getPoisson(r1,expectedReturn1) \n",
    "                                 for r1 in range(returned1+1, maxNumCounted+1)])\n",
    "            \n",
    "        for returned2 in range(maxCarsAvail-cars_avail_2+1):\n",
    "            ret2_prob = getPoisson(returned2,expectedReturn2)\n",
    "            if returned2 == maxCarsAvail-cars_avail_2:\n",
    "                ret2_prob += np.sum([getPoisson(r2,expectedReturn2)\n",
    "                                     for r2 in range(returned2+1, maxNumCounted+1)])\n",
    "\n",
    "            c1 = cars_avail_1+returned1\n",
    "            c2 = cars_avail_2+returned2\n",
    "            for rented1 in range(c1+1):\n",
    "                rent1_prob = getPoisson(rented1, expectedRent1)\n",
    "                if (rented1 == c1):\n",
    "                    rent1_prob += np.sum([getPoisson(r1,expectedRent1)\n",
    "                                 for r1 in range(rented1+1, maxNumCounted+1)])\n",
    "                    \n",
    "                for rented2 in range(c2+1):\n",
    "                    rent2_prob = getPoisson(rented2, expectedRent2)\n",
    "                    if (rented2 == c2):\n",
    "                        rent2_prob += np.sum([getPoisson(r2,expectedRent2)\n",
    "                                     for r2 in range(rented2+1, maxNumCounted+1)])\n",
    "                    \n",
    "                    left_1 = c1-rented1\n",
    "                    left_2 = c2-rented2\n",
    "                    yield ((left_1, left_2),\n",
    "                        ret1_prob * ret2_prob * rent1_prob * rent2_prob,\n",
    "                        creditRate*(rented1+rented2) - transfer_cost*abs(transfer)\n",
    "                          )"
   ]
  },
  {
   "cell_type": "code",
   "execution_count": 8,
   "metadata": {},
   "outputs": [],
   "source": [
    "def compileDistribution(state, action, getStateTransitionsIter):\n",
    "    dist = np.zeros(shape=(maxCarsAvail+1,maxCarsAvail+1), dtype=np.float64)\n",
    "    summary_reward = np.float64(0)\n",
    "    for next_state, prob, reward in getStateTransitionsIter(state,action):\n",
    "        dist[next_state] += prob\n",
    "        summary_reward += prob*reward\n",
    "        \n",
    "    # normalize weighted reward by probability of next state\n",
    "    #for s in summary:\n",
    "    #    s[1] /= s[0]\n",
    "        \n",
    "    return (summary_reward, dist)\n",
    "\n",
    "class getJacksCarCachedTransitionsSummary:\n",
    "    \n",
    "    def __init__(self, getStateTransitionsIter):\n",
    "        self.store = {}\n",
    "        self.get_trans = getStateTransitionsIter\n",
    "\n",
    "    def __call__(self, state, action):\n",
    "        key = state,action\n",
    "        if not key in self.store:\n",
    "            summary_dist = compileDistribution(state, action, self.get_trans)\n",
    "            self.store[key] = summary_dist\n",
    "        else:\n",
    "            summary_dist = self.store[key]\n",
    "        \n",
    "        return summary_dist\n",
    "\n",
    "cache_3 = getJacksCarCachedTransitionsSummary(getJacksCarTransitions_3)\n",
    "cache = getJacksCarCachedTransitionsSummary(getJacksCarTransitions)"
   ]
  },
  {
   "cell_type": "markdown",
   "metadata": {},
   "source": [
    "### Try Value iteration"
   ]
  },
  {
   "cell_type": "code",
   "execution_count": 44,
   "metadata": {},
   "outputs": [],
   "source": [
    "value_3 = np.zeros((maxCarsAvail+1,maxCarsAvail+1), dtype=np.float64)"
   ]
  },
  {
   "cell_type": "code",
   "execution_count": null,
   "metadata": {},
   "outputs": [],
   "source": [
    "v = iterateInplace(value_3,\n",
    "               lambda : product(range(maxCarsAvail+1), repeat=2),\n",
    "               getActionsIter,\n",
    "               getJacksCarTransitions_3,\n",
    "               gamma=0.9,\n",
    "               max_iter=4\n",
    "              )"
   ]
  },
  {
   "cell_type": "markdown",
   "metadata": {},
   "source": [
    "### Draw the policy"
   ]
  },
  {
   "cell_type": "code",
   "execution_count": 105,
   "metadata": {},
   "outputs": [],
   "source": [
    "import matplotlib\n",
    "import numpy as np\n",
    "import matplotlib.cm as cm\n",
    "import matplotlib.pyplot as plt\n",
    "\n",
    "x = np.arange(0, maxCarsAvail+1)\n",
    "y = np.arange(0, maxCarsAvail+1)\n",
    "X, Y = np.meshgrid(x, y)"
   ]
  },
  {
   "cell_type": "code",
   "execution_count": 75,
   "metadata": {},
   "outputs": [
    {
     "data": {
      "image/png": "[encoded data removed]",
      "text/plain": [
       "<Figure size 800x800 with 4 Axes>"
      ]
     },
     "metadata": {
      "needs_background": "light"
     },
     "output_type": "display_data"
    }
   ],
   "source": [
    "fig, axes = plt.subplots(nrows=2, ncols=2, figsize=(10,10), dpi=80)\n",
    "tile = product(range(2),range(2))\n",
    "for pol in policy_iterations:\n",
    "    axes[next(tile)].pcolor(X, Y, pol)"
   ]
  },
  {
   "cell_type": "markdown",
   "metadata": {},
   "source": [
    "### More sophisticated implementation"
   ]
  },
  {
   "cell_type": "code",
   "execution_count": 66,
   "metadata": {},
   "outputs": [],
   "source": [
    "poissonCache_2 = np.array([[(poisson.pmf(x,expect), poisson.sf(x-1,expect))\n",
    "                          for x in range(maxNumCounted+1)]\n",
    "                         for expect in range(expectedReturn2,expectedRent2+1)],\n",
    "                       dtype=np.float64)\n",
    "\n",
    "def getJacksCarProbAndReward(available, transition, remained, expectedRent, expectedReturn):\n",
    "    # remained = available - (rented + transition) + returned \n",
    "    # rented = (available  + returned) - (remained + transition)\n",
    "    # available_before_rent = remained+rented = available-transition+returned <= maxCarsAvail\n",
    "    # rented <= maxCarsAvail-remained\n",
    "    # available-(remained+transition) <= rented <= maxCarsAvail-remained\n",
    "    # returned = remained - available + rented + transition\n",
    "    # 0 <= returned\n",
    "    if transition > available: return [(0.0, 0)]\n",
    "    expectedReturn -= expectedReturn2\n",
    "    expectedRent -= expectedReturn2\n",
    "    is_rented_out = remained==0\n",
    "    max_returned_left = maxCarsAvail-available+transition\n",
    "\n",
    "    dist = []\n",
    "    for returned in range(max_returned_left+1):\n",
    "        rented = (available  + returned) - (remained + transition)\n",
    "        rentProb = poissonCache_2[expectedRent, rented, int(is_rented_out)]\n",
    "        is_max_returned = returned == max_returned_left\n",
    "        returnedProb = poissonCache_2[expectedReturn, returned, int(is_max_returned)]\n",
    "        dist.append((rentProb*returnedProb, rented*creditRate))\n",
    "    \n",
    "    return dist\n",
    "\n",
    "def getJacksCarProbDist_2(available, transition, expectedRent, expectedReturn):\n",
    "    dist = np.zeros(shape=(maxCarsAvail+1,2), dtype=np.float64)\n",
    "    if transition > available:\n",
    "        return dist\n",
    "    \n",
    "    for remained in range(maxCarsAvail+1):\n",
    "        dist[remained] = np.sum([(p,p*r) \n",
    "            for p,r in getJacksCarProbAndReward(available, transition, remained,\n",
    "                                                expectedRent, expectedReturn)],\n",
    "                                axis=0)\n",
    "    \n",
    "    return dist"
   ]
  },
  {
   "cell_type": "code",
   "execution_count": 53,
   "metadata": {},
   "outputs": [],
   "source": [
    "def getJacksCarProbDist(available, transition, expectedRent, expectedReturn):\n",
    "    dist = np.zeros(shape=(maxCarsAvail+1,2), dtype=np.float64)\n",
    "    if transition > available:\n",
    "        return dist\n",
    "\n",
    "    for requested_for_rent,returned in product(range(maxNumCounted+1), repeat=2):\n",
    "        available_for_rent = min(available-transition+returned, maxCarsAvail)\n",
    "        actually_rented = min(available_for_rent, requested_for_rent)\n",
    "        remained = available_for_rent - actually_rented\n",
    "        \n",
    "        prob = getPoisson(requested_for_rent, expectedRent) * \\\n",
    "                           getPoisson(returned, expectedReturn)\n",
    "        dist[remained] += [prob, prob * actually_rented * creditRate]\n",
    "\n",
    "    return dist"
   ]
  },
  {
   "cell_type": "code",
   "execution_count": 71,
   "metadata": {},
   "outputs": [],
   "source": [
    "getDistribution = getJacksCarProbDist_2 #getJacksCarProbDist #getJacksCarProbDist_2\n",
    "\n",
    "jacks_car_distribution_1 = \\\n",
    "    [dict([(t,getDistribution(cars_left, t, expectedRent1, expectedReturn1)) \n",
    "     for t in range(-maxCarsTransferred, min(cars_left,maxCarsTransferred)+1)]) \n",
    "    for cars_left in range(maxCarsAvail+1)]\n",
    "\n",
    "jacks_car_distribution_2 = \\\n",
    "    [dict([(t,getDistribution(cars_left, t, expectedRent2, expectedReturn2)) \n",
    "     for t in range(-maxCarsTransferred, min(cars_left,maxCarsTransferred)+1)]) \n",
    "    for cars_left in range(maxCarsAvail+1)]\n",
    "\n",
    "zero_dist = (0.0, np.zeros(shape=(maxCarsAvail+1,maxCarsAvail+1,2)))\n",
    "\n",
    "def getCachedDist(cars_left,transfer):\n",
    "    dict_1 = jacks_car_distribution_1[cars_left[0]]\n",
    "    if not transfer in dict_1:\n",
    "        return zero_dist\n",
    "    p_wr_1 = dict_1[transfer]\n",
    "    dict_2 = jacks_car_distribution_2[cars_left[1]]\n",
    "    if not -transfer in dict_2:\n",
    "        return zero_dist\n",
    "    p_wr_2 = dict_2[-transfer]\n",
    "    w_reward = np.sum(p_wr_1[:,1]) + np.sum(p_wr_2[:,1]) - transfer_cost*abs(transfer)\n",
    "    return (w_reward, \n",
    "        np.matmul(np.array([p_wr_1[:,0]]).transpose(), np.array([p_wr_2[:,0]]))\n",
    "           )\n",
    "    "
   ]
  },
  {
   "cell_type": "code",
   "execution_count": 16,
   "metadata": {},
   "outputs": [],
   "source": [
    "def getJacksCarTransitionsDist(cars_left, transfer):\n",
    "    p_wr_1 = getJacksCarProbDist(cars_left[0], transfer, expectedRent1, expectedReturn1)\n",
    "    p_wr_2 = getJacksCarProbDist(cars_left[1], -transfer, expectedRent2, expectedReturn2)\n",
    "    w_reward = np.sum(p_wr_1[:,1]) + np.sum(p_wr_2[:,1]) - transfer_cost*abs(transfer)\n",
    "    return (w_reward, \n",
    "        np.matmul(np.array([p_wr_1[:,0]]).transpose(), np.array([p_wr_2[:,0]]))\n",
    "           )\n",
    "        "
   ]
  },
  {
   "cell_type": "markdown",
   "metadata": {},
   "source": [
    "### Testing and debugging"
   ]
  },
  {
   "cell_type": "code",
   "execution_count": null,
   "metadata": {},
   "outputs": [],
   "source": [
    "test_action = 2\n",
    "test_state = (3,19)\n",
    "gamma = 0.9\n",
    "\n",
    "getCachedDist(test_state,test_action)[1][4], getJacksCarTransitionsDist(test_state,test_action)[1][4]"
   ]
  },
  {
   "cell_type": "code",
   "execution_count": 161,
   "metadata": {},
   "outputs": [
    {
     "data": {
      "text/plain": [
       "(0.9999999999999994, 0.9999999999999994)"
      ]
     },
     "execution_count": 161,
     "metadata": {},
     "output_type": "execute_result"
    }
   ],
   "source": [
    "test_action = 4\n",
    "test_state = (9,8)\n",
    "\n",
    "\n",
    "p1 = np.sum(np.array([prob for next_state, prob, reward \n",
    "                           in getJacksCarTransitions(test_state,test_action)],\n",
    "                    dtype = np.float64)\n",
    "           )\n",
    "\n",
    "p3 = np.sum(np.array([prob for next_state, prob, reward \n",
    "                           in getJacksCarTransitions_3(test_state,test_action)],\n",
    "                    dtype = np.float64)\n",
    "           )\n",
    "\n",
    "p1,p3"
   ]
  },
  {
   "cell_type": "code",
   "execution_count": 76,
   "metadata": {},
   "outputs": [
    {
     "data": {
      "text/plain": [
       "(array([[ 3.11558835e-03,  3.14528421e-02],\n",
       "        [ 1.04842807e-03,  9.59340601e-03],\n",
       "        [ 3.19780208e-04,  2.67262659e-03],\n",
       "        [ 8.90876053e-05,  6.84653549e-04],\n",
       "        [ 2.28221423e-05,  1.62209080e-04],\n",
       "        [ 5.40928516e-06,  3.55785268e-05],\n",
       "        [ 1.20020316e-06,  6.28869168e-06],\n",
       "        [ 2.92701703e-07, -4.94523910e-06],\n",
       "        [ 2.92497076e-07, -3.51029810e-05],\n",
       "        [ 1.19967118e-06, -1.83227290e-04],\n",
       "        [ 5.40869124e-06, -8.83554147e-04]]),\n",
       " array([[3.11558835e-03, 3.14528421e-02],\n",
       "        [1.04842807e-03, 9.59340606e-03],\n",
       "        [3.19780202e-04, 2.67262705e-03],\n",
       "        [8.90875684e-05, 6.84657083e-04],\n",
       "        [2.28219028e-05, 1.62234324e-04],\n",
       "        [5.40781079e-06, 3.57482644e-05],\n",
       "        [1.19160881e-06, 7.36172507e-06],\n",
       "        [2.45390836e-07, 1.42045197e-06],\n",
       "        [4.73483992e-08, 2.49994601e-07],\n",
       "        [8.33315338e-09, 3.23334814e-08],\n",
       "        [1.07778271e-09, 0.00000000e+00]]))"
      ]
     },
     "execution_count": 76,
     "metadata": {},
     "output_type": "execute_result"
    }
   ],
   "source": [
    "test_action = 1\n",
    "test_state = (4,8)\n",
    "\n",
    "(getJacksCarProbDist_2(test_state[0], test_action, expectedRent1, expectedReturn1)[10:],\n",
    " getJacksCarProbDist(test_state[0], test_action, expectedRent1, expectedReturn1)[10:])"
   ]
  },
  {
   "cell_type": "code",
   "execution_count": 58,
   "metadata": {},
   "outputs": [
    {
     "data": {
      "text/plain": [
       "(0.1549933833264024, 0.1549933833264024)"
      ]
     },
     "execution_count": 58,
     "metadata": {},
     "output_type": "execute_result"
    }
   ],
   "source": [
    "test_action = -2\n",
    "test_state = (13,12)\n",
    "next_state = (14,11)\n",
    "\n",
    "gamma = 0.9\n",
    "\n",
    "d1 = getJacksCarProbAndReward(test_state[0], test_action, next_state[0], \n",
    "                                  expectedRent1, expectedReturn1)\n",
    "(np.sum([p for p,r in d1]), \n",
    " getJacksCarProbDist(test_state[0], test_action, expectedRent1, expectedReturn1\n",
    "                    )[next_state[0]][0])"
   ]
  }
 ],
 "metadata": {
  "kernelspec": {
   "display_name": "Python 3",
   "language": "python",
   "name": "python3"
  },
  "language_info": {
   "codemirror_mode": {
    "name": "ipython",
    "version": 3
   },
   "file_extension": ".py",
   "mimetype": "text/x-python",
   "name": "python",
   "nbconvert_exporter": "python",
   "pygments_lexer": "ipython3",
   "version": "3.6.7rc1"
  }
 },
 "nbformat": 4,
 "nbformat_minor": 2
}
