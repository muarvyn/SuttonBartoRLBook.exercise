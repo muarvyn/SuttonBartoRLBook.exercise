{
 "cells": [
  {
   "cell_type": "markdown",
   "metadata": {},
   "source": [
    "### Exercise 10.7"
   ]
  },
  {
   "cell_type": "markdown",
   "metadata": {},
   "source": [
    "\\begin{align}\n",
    "&r(\\pi)\\doteq \\lim_{h\\to \\infty }\\frac{1}{h}\\sum_{t=1}^{h}\\mathbb{E}[R_{t}|S_0,A_{0:t-1}\\sim \\pi] \\\\ \n",
    "I.\\: &h=2n \\\\\n",
    "&\\lim_{n\\to \\infty }\\frac{1}{2n}\\sum_{t=1}^{n}(1+0)=\\frac{1}{2} \\\\\n",
    "II.\\: &h=2n+1 \\\\\n",
    "&\\lim_{n\\to \\infty }\\frac{1}{2n+1} \\sum_{t=1}^{n}(1+0)=\n",
    "  \\lim_{n\\to \\infty }\\frac{1}{2}\\frac{2n+1-1}{2n+1}=\\frac{1}{2}\\lim_{n\\to \\infty }(1-\\frac{1}{2n+1})=\\frac{1}{2} \\\\\n",
    "&r(\\pi)=\\frac{1}{2} \\\\\n",
    "\\end{align}"
   ]
  },
  {
   "cell_type": "markdown",
   "metadata": {},
   "source": [
    "\\begin{align}\n",
    "&v_{\\pi}(s)\\doteq \\lim_{\\gamma \\to 1}\\lim_{h\\to \\infty }\\sum_{t=0}^{h}\\gamma^{t}(\\mathbb{E}[R_{t+1}|S_0=s]-r(\\pi))=\\lim_{\\gamma \\to 1}G_s \\\\\n",
    "&G_s = \\lim_{h\\to \\infty }\\sum_{t=0}^{h}\\gamma^{t}\\Big(\\mathbb{E}[R_{t+1}|S_0=s]-\\frac{1}{2}\\Big); \\\\\n",
    "\\end{align}"
   ]
  },
  {
   "cell_type": "markdown",
   "metadata": {},
   "source": [
    "\\begin{align*}\n",
    "I.\\; &G_A=\\lim_{h\\to \\infty }\\sum_{t=0}^{h}\\gamma^{t}\\Big(\\mathbb{E}[R_{t+1}|S_0=A]-\\frac{1}{2}\\Big)= \\\\\n",
    "&\\lim_{h\\to \\infty }(\\gamma^{0} (1-\\frac{1}{2})+\\gamma^{1}(0-\\frac{1}{2})+\\gamma^{2}\\sum_{t=2}^{h}\\gamma^{t-2}\\Big(\\mathbb{E}[R_{t+1}|S_0=A]-\\frac{1}{2}\\Big)= \\\\\n",
    "&\\frac{1}{2}(1-\\gamma )+\\gamma^2G_A; \\\\\n",
    "&(1-\\gamma^2)G_A=\\frac{1}{2}(1-\\gamma); \\\\\n",
    "&G_A=\\frac{1}{2(1+\\gamma)} \\\\\n",
    "&v_{\\pi}(A)=\\lim_{\\gamma \\to 1}G_A=\\lim_{\\gamma \\to 1}\\frac{1}{2(1+\\gamma)}=\\frac{1}{4}\n",
    "\\end{align*}"
   ]
  },
  {
   "cell_type": "markdown",
   "metadata": {},
   "source": [
    "\\begin{align*}\n",
    "II.\\; &G_B=\\lim_{h\\to \\infty }\\sum_{t=0}^{h}\\gamma^{t}\\Big(\\mathbb{E}[R_{t+1}|S_0=B]-\\frac{1}{2}\\Big)= \\\\\n",
    "&\\lim_{h\\to \\infty }\\bigg(\\gamma^{0} (0-\\frac{1}{2})+\\gamma^{1}(1-\\frac{1}{2})+\\gamma^{2}\\sum_{t=2}^{h}\\gamma^{t-2}\\Big(\\mathbb{E}[R_{t+1}|S_0=B]-\\frac{1}{2}\\Big)\\bigg)= \\\\\n",
    "&\\frac{1}{2}(\\gamma -1)+\\gamma^2G_B \\\\\n",
    "&(1-\\gamma^2)G_B=\\frac{1}{2}(\\gamma-1) \\\\\n",
    "&G_B=-\\frac{1}{2(1+\\gamma)} \\\\\n",
    "&v_{\\pi}(B)=\\lim_{\\gamma \\to 1}G_B=\\lim_{\\gamma \\to 1}\\frac{-1}{2(1+\\gamma)}=-\\frac{1}{4}\n",
    "\\end{align*}"
   ]
  },
  {
   "cell_type": "markdown",
   "metadata": {},
   "source": [
    "#### Answer:"
   ]
  },
  {
   "cell_type": "markdown",
   "metadata": {},
   "source": [
    "\\begin{align*}\n",
    "&r(\\pi)=\\frac{1}{2} \\\\\n",
    "&v_{\\pi}(A)=\\frac{1}{4} \\\\\n",
    "&v_{\\pi}(B)=-\\frac{1}{4}\n",
    "\\end{align*}"
   ]
  }
 ],
 "metadata": {
  "kernelspec": {
   "display_name": "Python 3",
   "language": "python",
   "name": "python3"
  },
  "language_info": {
   "codemirror_mode": {
    "name": "ipython",
    "version": 3
   },
   "file_extension": ".py",
   "mimetype": "text/x-python",
   "name": "python",
   "nbconvert_exporter": "python",
   "pygments_lexer": "ipython3",
   "version": "3.6.7rc1"
  }
 },
 "nbformat": 4,
 "nbformat_minor": 2
}
