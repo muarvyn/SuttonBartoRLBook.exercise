{
 "cells": [
  {
   "cell_type": "markdown",
   "metadata": {},
   "source": [
    "### Exercise 6.3\n",
    "In the first episode all the initial valies V(S) are the same and equal 0.5, unless a value of the terminal state, which is 0. All the rewards are 0 and discount factor is 1. Thus, TD error ($\\delta_t \\doteq R_{t+1}+\\gamma V(S_{t+1})-V(S_t)$) would be zero, for all steps, unless the last one which transitions from state $\\sf{A}$ to a terminal state.\n",
    "The update rule gives <br>\n",
    "$V({\\sf A}) \\leftarrow V({\\sf A })+\\alpha (R_{t+1}+\\gamma V({\\sf T})-V({\\sf A}))$<br>\n",
    "$V({\\sf A}) \\leftarrow 0.5+0.1 \\cdot (0+1 \\cdot 0-0.5))$<br>\n",
    "$V({\\sf A}) \\leftarrow 0.45$<br>\n",
    "\n",
    "#### Answer:\n",
    "1. The episode terminated on the left;\n",
    "2. The value change was -0.05"
   ]
  }
 ],
 "metadata": {
  "kernelspec": {
   "display_name": "Python 3",
   "language": "python",
   "name": "python3"
  },
  "language_info": {
   "codemirror_mode": {
    "name": "ipython",
    "version": 3
   },
   "file_extension": ".py",
   "mimetype": "text/x-python",
   "name": "python",
   "nbconvert_exporter": "python",
   "pygments_lexer": "ipython3",
   "version": "3.7.3"
  }
 },
 "nbformat": 4,
 "nbformat_minor": 2
}
