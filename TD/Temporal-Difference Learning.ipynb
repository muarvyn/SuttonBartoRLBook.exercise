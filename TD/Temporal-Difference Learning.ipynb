{
 "cells": [
  {
   "cell_type": "markdown",
   "metadata": {},
   "source": [
    "### Exercise 6.3\n",
    "In the first episode all the initial valies V(S) are the same and equal 0.5, unless a value of the terminal state, which is 0. All the rewards are 0 and discount factor is 1. Thus, TD error ($\\delta_t \\doteq R_{t+1}+\\gamma V(S_{t+1})-V(S_t)$) would be zero, for all steps, unless the last one which transitions from state $\\sf{A}$ to a terminal state.\n",
    "The update rule gives <br>\n",
    "$V({\\sf A}) \\leftarrow V({\\sf A })+\\alpha (R_{t+1}+\\gamma V({\\sf T})-V({\\sf A}))$<br>\n",
    "$V({\\sf A}) \\leftarrow 0.5+0.1 \\cdot (0+1 \\cdot 0-0.5))$<br>\n",
    "$V({\\sf A}) \\leftarrow 0.45$<br>\n",
    "\n",
    "#### Answer:\n",
    "1. The episode terminated on the left;\n",
    "2. The value change was -0.05"
   ]
  },
  {
   "cell_type": "markdown",
   "metadata": {},
   "source": [
    "### Exercise 6.6\n",
    "Value function for the problem can be expressed in the following system of equations:\n",
    "\\begin{cases}\n",
    "V({\\sf A}) = \\frac12(0+V({\\sf B})+0+0) \\\\\n",
    "V({\\sf B}) = \\frac12(0+V({\\sf A})+0+V({\\sf C}) \\\\\n",
    "V({\\sf C}) = \\frac12(0+V({\\sf B})+0+V({\\sf D}) \\\\\n",
    "V({\\sf D}) = \\frac12(0+V({\\sf C})+0+V({\\sf E}) \\\\\n",
    "V({\\sf E}) = \\frac12(0+V({\\sf D})+1+0)\n",
    "\\end{cases} \n",
    "#### Answer I:\n",
    "Solving the above system will give the exact values.\n",
    "\n",
    "#### Policy Evaluation\n",
    "$V({\\sf A}) \\leftarrow \\frac12(0+V({\\sf B})+0+0)$<br>\n",
    "$V({\\sf B}) \\leftarrow \\frac12(0+V({\\sf A})+0+V({\\sf C}))$<br>\n",
    "$V({\\sf C}) \\leftarrow \\frac12(0+V({\\sf B})+0+V({\\sf D}))$<br>\n",
    "$V({\\sf D}) \\leftarrow \\frac12(0+V({\\sf C})+0+V({\\sf E}))$<br>\n",
    "$V({\\sf E}) \\leftarrow \\frac12(0+V({\\sf D})+1+0)$<br>\n",
    "#### Answer II:\n",
    "Iterating over the above update rules will give the values, converging to the exact values.\n",
    "You used the first way, because it's hard to compute exact rational values with the second way."
   ]
  },
  {
   "cell_type": "markdown",
   "metadata": {},
   "source": [
    "### Application to the Exercise 6.6\n",
    "\\begin{gather}\n",
    "\\begin{bmatrix}\n",
    "-2 & 1 & & &\\\\\n",
    "1 & -2 & 1 & &\\\\\n",
    "  & 1 & -2 & 1 & \\\\\n",
    "  & & 1 & -2 & 1 \\\\\n",
    "  & & & 1 & -2\n",
    "\\end{bmatrix} \n",
    "\\begin{bmatrix}\n",
    "a \\\\ b \\\\ c \\\\ d \\\\ e\n",
    "\\end{bmatrix}=\n",
    "\\begin{bmatrix}\n",
    "0 \\\\ 0 \\\\ 0 \\\\ 0 \\\\ -1\n",
    "\\end{bmatrix}\n",
    "\\end{gather}\n",
    "\n",
    "#### Solution:\n",
    "b=2a<br>\n",
    "c=2b-a=3a<br>\n",
    "d=2c-b=4a<br>\n",
    "e=2d-c=5a<br>\n",
    "2e=d+1=4a+1<br>\n",
    "10a=4a+1<br>\n",
    "#### Answer I:\n",
    "a=1/6<br>\n",
    "b=2/6<br>\n",
    "c=3/6<br>\n",
    "d=4/6<br>\n",
    "e=5/6<br>"
   ]
  },
  {
   "cell_type": "code",
   "execution_count": 2,
   "metadata": {},
   "outputs": [],
   "source": [
    "# the same as above with numeric approach\n",
    "import numpy as np\n",
    "A = np.array(\n",
    "[\n",
    "   [-2,  1,    0,    0,    0],\n",
    "   [1,  -2,    1,    0,    0],\n",
    "   [0,   1,   -2,    1,    0],\n",
    "   [0,   0,    1,   -2,    1],\n",
    "   [0,   0,    0,    1,   -2]\n",
    "]\n",
    ")\n",
    "Ainv = np.linalg.inv(A)\n",
    "V = np.matmul(Ainv, np.array([[0,0,0,0,-1]]).transpose())"
   ]
  },
  {
   "cell_type": "code",
   "execution_count": 5,
   "metadata": {},
   "outputs": [],
   "source": [
    "# Iterative way for Exercise 6.6\n",
    "v=np.zeros(shape=(7,), dtype=float)\n",
    "v[-1] = 1\n",
    "while True:\n",
    "    delta = 0\n",
    "    for i in range(1,v.shape[0]-1):\n",
    "        cache = v[i]\n",
    "        v[i]=(v[i-1]+v[i+1])/2\n",
    "        delta = max(delta, abs(cache-v[i]))\n",
    "    if delta < 0.00001: break\n"
   ]
  },
  {
   "cell_type": "code",
   "execution_count": 7,
   "metadata": {},
   "outputs": [
    {
     "data": {
      "text/plain": [
       "(array([[0.16666667],\n",
       "        [0.33333333],\n",
       "        [0.5       ],\n",
       "        [0.66666667],\n",
       "        [0.83333333]]),\n",
       " array([0.16664783, 0.33330508, 0.49997175, 0.66664548, 0.83332274]))"
      ]
     },
     "execution_count": 7,
     "metadata": {},
     "output_type": "execute_result"
    }
   ],
   "source": [
    "V, v[1:-1]"
   ]
  },
  {
   "cell_type": "markdown",
   "metadata": {},
   "source": [
    "\n"
   ]
  }
 ],
 "metadata": {
  "kernelspec": {
   "display_name": "Python 3",
   "language": "python",
   "name": "python3"
  },
  "language_info": {
   "codemirror_mode": {
    "name": "ipython",
    "version": 3
   },
   "file_extension": ".py",
   "mimetype": "text/x-python",
   "name": "python",
   "nbconvert_exporter": "python",
   "pygments_lexer": "ipython3",
   "version": "3.7.3"
  }
 },
 "nbformat": 4,
 "nbformat_minor": 2
}
