{
 "cells": [
  {
   "cell_type": "code",
   "execution_count": 1,
   "metadata": {},
   "outputs": [],
   "source": [
    "import numpy as np\n",
    "import matplotlib.pyplot as plt\n",
    "\n",
    "import sys\n",
    "sys.path.append('..')\n",
    "import SeqGen\n",
    "import RacetrackSetup as rt\n",
    "import MCM"
   ]
  },
  {
   "cell_type": "code",
   "execution_count": 2,
   "metadata": {},
   "outputs": [],
   "source": [
    "def initLearning(track_shape):\n",
    "    QShape = track_shape + (rt.MAX_VELOCITY+1, rt.MAX_VELOCITY+1, rt.ACTIONS_NUM)\n",
    "    np.random.seed(113)\n",
    "    Q = (np.random.random(QShape)-0.5)*0.001 - 300.0\n",
    "    return Q\n",
    "\n",
    "REWARD = -1\n",
    "\n",
    "def setupEnvironment(rt_contour, start_line, finish_line, Q,):\n",
    "    sequence = SeqGen.SequenceGeneratorPlus(\n",
    "                SeqGen.EpsilonGreedyPolicy(Q, 0.1),\n",
    "                lambda: rt.getStartPosition(start_line),\n",
    "                lambda s,a: rt.getTransition(\n",
    "                        rt_contour, s, a, finish_line, \n",
    "                        getStartPosition=lambda: rt.getStartPosition(start_line))\n",
    "                    + (REWARD,),\n",
    "                episodes_max=1000\n",
    "               )\n",
    "    return sequence\n",
    "\n",
    "class ImmutableGreedyPolicy:\n",
    "    def __init__(self, Q):\n",
    "        self.action = np.argmax(Q,axis=-1);\n",
    "        \n",
    "    def __call__(self, state):\n",
    "        return self.action[state]"
   ]
  },
  {
   "cell_type": "markdown",
   "metadata": {},
   "source": [
    "### Setup Environment #2"
   ]
  },
  {
   "cell_type": "code",
   "execution_count": 3,
   "metadata": {},
   "outputs": [],
   "source": [
    "Q = initLearning(rt.track_shape_2)\n",
    "sequence = setupEnvironment(rt.contour_2, rt.start_line_2, rt.finish_line_2, Q)"
   ]
  },
  {
   "cell_type": "markdown",
   "metadata": {},
   "source": [
    "### Run Off-policy MC Control learning"
   ]
  },
  {
   "cell_type": "code",
   "execution_count": 4,
   "metadata": {},
   "outputs": [
    {
     "name": "stdout",
     "output_type": "stream",
     "text": [
      " Episode #:    1000; length:      13\n",
      "Episodes generated: 1000\n"
     ]
    }
   ],
   "source": [
    "C = np.zeros(dtype=np.float, shape=Q.shape)\n",
    "#t_policy = getGreedyPolicy(Q)\n",
    "MCM.learnByEpisode(sequence, \n",
    "                   lambda e,i: MCM.OffPolicyMCControl(e, Q, C, \n",
    "                                sequence.get_action.getDistribution, 0.99))"
   ]
  },
  {
   "cell_type": "markdown",
   "metadata": {},
   "source": [
    "### Run On-policy First Visit MC Control learning"
   ]
  },
  {
   "cell_type": "code",
   "execution_count": null,
   "metadata": {},
   "outputs": [],
   "source": [
    "C = np.zeros(shape=Q.shape, dtype=int)\n",
    "MCM.learnByEpisode(sequence, lambda e,i: MCM.OnPolicyFirstVisitMCControl(e, Q, C, 0.99))"
   ]
  },
  {
   "cell_type": "markdown",
   "metadata": {},
   "source": [
    "### Run On-policy Every Visit MC Control learning"
   ]
  },
  {
   "cell_type": "code",
   "execution_count": 5,
   "metadata": {},
   "outputs": [],
   "source": [
    "sequence = setupEnvironment(rt.contour_2, rt.start_line_2, rt.finish_line_2, Q)"
   ]
  },
  {
   "cell_type": "code",
   "execution_count": 7,
   "metadata": {},
   "outputs": [
    {
     "name": "stdout",
     "output_type": "stream",
     "text": [
      " Episode #:    1000; length:      30\n",
      "Episodes generated: 1000\n"
     ]
    }
   ],
   "source": [
    "C = np.zeros(shape=Q.shape, dtype=int)\n",
    "MCM.learnByEpisode(sequence, lambda e,i: MCM.OnPolicyEveryVisitMCControl(e, Q, C, 0.99))"
   ]
  },
  {
   "cell_type": "markdown",
   "metadata": {},
   "source": [
    "### Setup Environment #1"
   ]
  },
  {
   "cell_type": "code",
   "execution_count": null,
   "metadata": {},
   "outputs": [],
   "source": [
    "Q = initLearning(rt.track_shape_1)\n",
    "sequence = setupEnvironment(rt.contour_1, rt.start_line_1, rt.finish_line_1, Q)"
   ]
  }
 ],
 "metadata": {
  "kernelspec": {
   "display_name": "Python 3",
   "language": "python",
   "name": "python3"
  },
  "language_info": {
   "codemirror_mode": {
    "name": "ipython",
    "version": 3
   },
   "file_extension": ".py",
   "mimetype": "text/x-python",
   "name": "python",
   "nbconvert_exporter": "python",
   "pygments_lexer": "ipython3",
   "version": "3.6.7rc1"
  }
 },
 "nbformat": 4,
 "nbformat_minor": 2
}
