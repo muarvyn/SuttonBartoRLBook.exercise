{
 "cells": [
  {
   "cell_type": "code",
   "execution_count": 2,
   "metadata": {},
   "outputs": [],
   "source": [
    "import numpy as np\n",
    "import matplotlib.pyplot as plt\n",
    "\n",
    "import sys\n",
    "sys.path.append('..')\n",
    "import SeqGen\n",
    "import RacetrackSetup as rt\n",
    "import MCM"
   ]
  },
  {
   "cell_type": "code",
   "execution_count": 3,
   "metadata": {},
   "outputs": [],
   "source": [
    "def initLearning(track_shape):\n",
    "    QShape = track_shape + (rt.MAX_VELOCITY+1, rt.MAX_VELOCITY+1, rt.ACTIONS_NUM)\n",
    "    np.random.seed(113)\n",
    "    Q = (np.random.random(QShape)-0.5)*0.001 - 300.0\n",
    "    return Q\n",
    "\n",
    "REWARD = -1\n",
    "\n",
    "def setupEnvironment(rt_contour, start_line, finish_line, Q, episodes_to_generate = 1000):\n",
    "    sequence = SeqGen.SequenceGeneratorPlus(\n",
    "                SeqGen.EpsilonGreedyPolicy(Q, 0.1),\n",
    "                lambda: rt.getStartPosition(start_line),\n",
    "                lambda s,a: rt.getTransition(\n",
    "                        rt_contour, s, a, finish_line, \n",
    "                        getStartPosition=lambda: rt.getStartPosition(start_line))\n",
    "                    + (REWARD,),\n",
    "                episodes_max=episodes_to_generate\n",
    "               )\n",
    "    return sequence\n",
    "\n",
    "class ImmutableGreedyPolicy:\n",
    "    def __init__(self, Q):\n",
    "        self.action = np.argmax(Q,axis=-1);\n",
    "\n",
    "    def __call__(self, state):\n",
    "        return self.action[state]"
   ]
  },
  {
   "cell_type": "markdown",
   "metadata": {},
   "source": [
    "### For plotting"
   ]
  },
  {
   "cell_type": "code",
   "execution_count": 4,
   "metadata": {},
   "outputs": [],
   "source": [
    "class startPosition:\n",
    "    def __init__(self, low, high, step=1):\n",
    "        self.x = low\n",
    "        self.high = high\n",
    "        self.step = step\n",
    "    \n",
    "    def __call__(self):\n",
    "        x = self.x\n",
    "        nx = self.x + self.step\n",
    "        if nx < self.high:\n",
    "            self.x = nx\n",
    "        return (x, 0, 0, 0)\n",
    "    \n",
    "def getTraces(contour, start_line, finish_line, Q, from_position=None, to_position=None):\n",
    "    if from_position == None: from_position = start_line[0]\n",
    "    if to_position == None: to_position = start_line[2]\n",
    "    test_gen = SeqGen.SequenceGeneratorPlus(\n",
    "        ImmutableGreedyPolicy(Q), \n",
    "        startPosition(from_position, to_position),\n",
    "        lambda s,a: rt.getTransition(contour, s, a, finish_line, \n",
    "                            getStartPosition=lambda: rt.getStartPosition(start_line))\n",
    "                        + (REWARD,),\n",
    "        episodes_max = to_position-from_position,\n",
    "        episode_maxlen = 40\n",
    "        )\n",
    "\n",
    "    traces = []\n",
    "    episode = []\n",
    "    for state, is_terminal, next_state, action, reward in test_gen:\n",
    "        episode.append(state[:2])\n",
    "        if is_terminal:\n",
    "            episode.append(next_state[:2])\n",
    "            traces.append(np.array(episode)+0.5)\n",
    "            episode = []\n",
    "\n",
    "    return traces\n",
    "\n",
    "def plotTraces(contour, traces):\n",
    "    f = plt.figure(num=None, figsize=(8,10), dpi=100, facecolor='w', edgecolor='k')\n",
    "    plt.axes().set_aspect('equal')\n",
    "    cont = np.array(contour)\n",
    "    plt.plot(cont[:,0], cont[:,1], figure=f)\n",
    "    cols = ['red','yellow','black','green','magenta','blue']\n",
    "    wids = [4.0, 3.5, 3.0, 2.5, 2.0, 1.5, 1.0]\n",
    "    lnst = ['-', '--', '-.', ':']\n",
    "\n",
    "    for i, trace in enumerate(traces):\n",
    "        plt.plot(trace[:,0], trace[:,1], figure=f, linewidth=1+12/(i+2),  #wids[i%len(wids)], \n",
    "                 color=cols[i%len(cols)], ls=lnst[i%len(lnst)])\n"
   ]
  },
  {
   "cell_type": "markdown",
   "metadata": {},
   "source": [
    "### Setup Environment #2"
   ]
  },
  {
   "cell_type": "code",
   "execution_count": 4,
   "metadata": {},
   "outputs": [],
   "source": [
    "Q = initLearning(rt.track_shape_2)\n",
    "sequence = setupEnvironment(rt.contour_2, rt.start_line_2, rt.finish_line_2, Q,\n",
    "                           episodes_to_generate = 10000)\n",
    "C_float = np.zeros(dtype=np.float, shape=Q.shape)\n",
    "C_int = np.zeros(shape=Q.shape, dtype=int)"
   ]
  },
  {
   "cell_type": "markdown",
   "metadata": {},
   "source": [
    "### Run Off-policy MC Control learning"
   ]
  },
  {
   "cell_type": "code",
   "execution_count": 5,
   "metadata": {},
   "outputs": [
    {
     "name": "stdout",
     "output_type": "stream",
     "text": [
      " Episode #:   10000; length:      15\n",
      "Episodes generated: 10000\n"
     ]
    }
   ],
   "source": [
    "#t_policy = getGreedyPolicy(Q)\n",
    "MCM.learnByEpisode(sequence, \n",
    "                   lambda e,i: MCM.OffPolicyMCControl(e, Q, C_float, \n",
    "                                sequence.get_action.getDistribution, 0.99))"
   ]
  },
  {
   "cell_type": "markdown",
   "metadata": {},
   "source": [
    "### Plot the paths of greedy policy in Environment #2"
   ]
  },
  {
   "cell_type": "code",
   "execution_count": 65,
   "metadata": {},
   "outputs": [
    {
     "data": {
      "image/png": "[encoded data removed]",
      "text/plain": [
       "<Figure size 800x1000 with 1 Axes>"
      ]
     },
     "metadata": {},
     "output_type": "display_data"
    }
   ],
   "source": [
    "plotTraces(rt.contour_2, getTraces(rt.contour_2, rt.start_line_2, rt.finish_line_2, Q,\n",
    "                                  from_position=19))# , to_position=22))"
   ]
  },
  {
   "cell_type": "markdown",
   "metadata": {},
   "source": [
    "### Run On-policy First Visit MC Control learning"
   ]
  },
  {
   "cell_type": "code",
   "execution_count": null,
   "metadata": {},
   "outputs": [],
   "source": [
    "MCM.learnByEpisode(sequence, lambda e,i: MCM.OnPolicyFirstVisitMCControl(e, Q, C_int, 0.99))"
   ]
  },
  {
   "cell_type": "markdown",
   "metadata": {},
   "source": [
    "### Run On-policy Every Visit MC Control learning"
   ]
  },
  {
   "cell_type": "code",
   "execution_count": 5,
   "metadata": {},
   "outputs": [],
   "source": [
    "# To generate more steps in Environment #2\n",
    "sequence = setupEnvironment(rt.contour_2, rt.start_line_2, rt.finish_line_2, Q)"
   ]
  },
  {
   "cell_type": "code",
   "execution_count": 7,
   "metadata": {},
   "outputs": [
    {
     "name": "stdout",
     "output_type": "stream",
     "text": [
      " Episode #:    1000; length:      35\n",
      "Episodes generated: 1000\n"
     ]
    }
   ],
   "source": [
    "MCM.learnByEpisode(sequence, lambda e,i: MCM.OnPolicyEveryVisitMCControl(e, Q, C_int, 0.99))"
   ]
  },
  {
   "cell_type": "markdown",
   "metadata": {},
   "source": [
    "### Setup Environment #1"
   ]
  },
  {
   "cell_type": "code",
   "execution_count": 5,
   "metadata": {},
   "outputs": [],
   "source": [
    "Q_1 = initLearning(rt.track_shape_1)\n",
    "sequence_1 = setupEnvironment(rt.contour_1, rt.start_line_1, rt.finish_line_1, Q_1, \n",
    "                            episodes_to_generate=10000)\n",
    "C_1_float = np.zeros(dtype=np.float, shape=Q_1.shape)\n",
    "C_1_int = np.zeros(shape=Q_1.shape, dtype=int)"
   ]
  },
  {
   "cell_type": "markdown",
   "metadata": {},
   "source": [
    "### Run On-policy Every Visit MC Control learning in Environment #1"
   ]
  },
  {
   "cell_type": "code",
   "execution_count": null,
   "metadata": {},
   "outputs": [],
   "source": [
    "#t_policy = getGreedyPolicy(Q)\n",
    "MCM.learnByEpisode(sequence_1, \n",
    "                   #lambda e,i: MCM.OffPolicyMCControl(e, Q_1, C_1_float, \n",
    "                   #             sequence.get_action.getDistribution, 0.99))\n",
    "                   lambda e,i: MCM.OnPolicyEveryVisitMCControl(e, Q_1, C_1_int, 0.99))\n"
   ]
  },
  {
   "cell_type": "markdown",
   "metadata": {},
   "source": [
    "### Plot the paths of greedy policy in Environment #1"
   ]
  },
  {
   "cell_type": "code",
   "execution_count": 66,
   "metadata": {},
   "outputs": [
    {
     "data": {
      "image/png": "[encoded data removed]",
      "text/plain": [
       "<Figure size 800x1000 with 1 Axes>"
      ]
     },
     "metadata": {},
     "output_type": "display_data"
    }
   ],
   "source": [
    "plotTraces(rt.contour_1, getTraces(rt.contour_1, rt.start_line_1, rt.finish_line_1, Q_1,\n",
    "                                  from_position = 6))\n"
   ]
  },
  {
   "cell_type": "markdown",
   "metadata": {},
   "source": [
    "#### Some testing"
   ]
  },
  {
   "cell_type": "code",
   "execution_count": null,
   "metadata": {},
   "outputs": [],
   "source": [
    "test_gen = SeqGen.SequenceGeneratorPlus(\n",
    "    ImmutableGreedyPolicy(Q), \n",
    "    startPosition(start_line[0], start_line[2]),\n",
    "    lambda s,a: rt.getTransition(rt.contour_1, s, a, rt.finish_line_1, \n",
    "                        getStartPosition=lambda: rt.getStartPosition(start_line))\n",
    "                    + (REWARD,),\n",
    "    episodes_max = start_line[2]-start_line[0],\n",
    "    episode_maxlen = 40\n",
    "    )\n"
   ]
  }
 ],
 "metadata": {
  "kernelspec": {
   "display_name": "Python 3",
   "language": "python",
   "name": "python3"
  },
  "language_info": {
   "codemirror_mode": {
    "name": "ipython",
    "version": 3
   },
   "file_extension": ".py",
   "mimetype": "text/x-python",
   "name": "python",
   "nbconvert_exporter": "python",
   "pygments_lexer": "ipython3",
   "version": "3.6.7rc1"
  }
 },
 "nbformat": 4,
 "nbformat_minor": 2
}
