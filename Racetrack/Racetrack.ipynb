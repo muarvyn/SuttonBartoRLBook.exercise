{
 "cells": [
  {
   "cell_type": "code",
   "execution_count": 1,
   "metadata": {},
   "outputs": [],
   "source": [
    "import numpy as np\n",
    "import matplotlib.pyplot as plt"
   ]
  },
  {
   "cell_type": "markdown",
   "metadata": {},
   "source": [
    "### Off-policy Monte-Carlo Control"
   ]
  },
  {
   "cell_type": "code",
   "execution_count": 2,
   "metadata": {},
   "outputs": [],
   "source": [
    "def getGreedyPolicy(Q):\n",
    "    return np.argmax(Q,axis=-1)\n",
    "\n",
    "def OffPolicyMCControl(episode, Q, C, target_policy, getBehaviourDist, gamma):\n",
    "    b_policy = getBehaviourDist()\n",
    "    G = 0.0\n",
    "    W = 1.0\n",
    "    converged = True\n",
    "    step = len(episode)-1\n",
    "    for state, action, reward in reversed(episode):\n",
    "        G = gamma*G + reward\n",
    "        C[state][action] += W\n",
    "        q = Q[state][action]\n",
    "        Q[state][action] += W/C[state][action] * (G-Q[state][action])\n",
    "        converged = converged and abs(q - Q[state][action]) < CONVERGENCE_ERROR\n",
    "        target_policy[state] = np.argmax(Q[state])\n",
    "        if target_policy[state] != action: break\n",
    "        W *= 1.0/b_policy[state][action]\n",
    "        step -= 1\n",
    "    \n",
    "    #print(\"\\repisode length:{:7}; steps used:{:3}\".format(len(episode),len(episode)-step), \n",
    "    #      end='', flush=True)\n",
    "    return converged"
   ]
  },
  {
   "cell_type": "markdown",
   "metadata": {},
   "source": [
    "### On-policy Monte-Carlo Control"
   ]
  },
  {
   "cell_type": "code",
   "execution_count": 24,
   "metadata": {},
   "outputs": [],
   "source": [
    "def OnPolicyFirstVisitMCControl(episode, Q, C, gamma):\n",
    "    visited = set()\n",
    "    x_episode = []\n",
    "    for state, action, reward in episode:\n",
    "        is_first = not (state,action) in visited\n",
    "        if is_first:\n",
    "            visited.add((state,action))\n",
    "        x_episode.append((state, action, reward, is_first))\n",
    "    \n",
    "    converged = False\n",
    "    G = 0\n",
    "    for state, action, reward, is_first in reversed(x_episode):\n",
    "        G = gamma*G + reward\n",
    "        if not is_first: \n",
    "            continue\n",
    "        \n",
    "        C[state][action] += 1\n",
    "#        q = Q[state][action]\n",
    "        Q[state][action] += (G-Q[state][action])/C[state][action]\n",
    "#        converged = converged and abs(q - Q[state][action]) < CONVERGENCE_ERROR\n",
    "#        greedy_policy[state] = np.argmax(Q[state])\n",
    "    \n",
    "    #print(\"\\repisode length:{:7}; steps used:{:3}\".format(len(episode),len(episode)-step), \n",
    "    #      end='', flush=True)\n",
    "    return converged\n",
    "\n",
    "def OnPolicyEveryVisitMCControl(episode, Q, C, gamma):\n",
    "    converged = False\n",
    "    G = 0\n",
    "    for state, action, reward in reversed(episode):\n",
    "        G = gamma*G + reward\n",
    "        C[state][action] += 1\n",
    "        Q[state][action] += (G-Q[state][action])/C[state][action]\n",
    "    \n",
    "    return converged"
   ]
  },
  {
   "cell_type": "markdown",
   "metadata": {},
   "source": [
    "### Procedure to run learning"
   ]
  },
  {
   "cell_type": "code",
   "execution_count": 5,
   "metadata": {},
   "outputs": [],
   "source": [
    "def learnByEpisode(sequence, learnMethod):\n",
    "    conv_count = 0\n",
    "    episode = []\n",
    "\n",
    "    for st,is_term,st_nx,ac,rw in sequence:\n",
    "        episode.append((st,ac,rw))\n",
    "        if not is_term:\n",
    "            continue\n",
    "        if len(episode) == 0: break\n",
    "        print(\" Episode #: {:7}; length: {:7}\\r\".format(sequence.episode_i-1, len(episode)), \n",
    "              end='', flush=True)\n",
    "\n",
    "        if learnMethod(episode, sequence.episode_i-1):\n",
    "            conv_count += 1\n",
    "        else: \n",
    "            conv_count = 0\n",
    "        if conv_count >= 500:\n",
    "            print(\"\\nConvergence reached.\")\n",
    "            break\n",
    "            \n",
    "        episode = []\n",
    "        \n",
    "    print(\"\\nEpisodes generated: {}\".format(sequence.episode_i-1))"
   ]
  },
  {
   "cell_type": "markdown",
   "metadata": {},
   "source": [
    "#### Some geometry"
   ]
  },
  {
   "cell_type": "code",
   "execution_count": 11,
   "metadata": {},
   "outputs": [],
   "source": [
    "def getRelative(base, line):\n",
    "    return line-base\n",
    "    \n",
    "def det(v1,v2):\n",
    "    return v1[0]*v2[1]-v1[1]*v2[0]\n",
    "\n",
    "def is_intersection(l1, l2):\n",
    "    return (det(*getRelative(l1[0],l2)) < 0) != (det(*getRelative(l1[1],l2)) < 0) \\\n",
    "           and (det(*getRelative(l2[0],l1)) < 0) != (det(*getRelative(l2[1],l1)) < 0)"
   ]
  },
  {
   "cell_type": "markdown",
   "metadata": {},
   "source": [
    "### Implementation of RaceTrack environment"
   ]
  },
  {
   "cell_type": "code",
   "execution_count": 12,
   "metadata": {},
   "outputs": [],
   "source": [
    "MAX_VELOCITY = 4\n",
    "MIN_VELOCITY = 0\n",
    "\n",
    "rt_contour_1 = [\n",
    "    [3,0],[3,3],[2,3],[2,10],[1,10],[1,18],[0,18],[0,28],[1,28],[1,29],[2,29],\n",
    "    [2,31],[3,31],[3,32],[17,32],[17,26],[10,26],[10,25],[9,25],[9,0],[3,0]\n",
    "]\n",
    "start_line_1 = (3,0,9,1)\n",
    "finish_line_1 = (16,26,17,32)\n",
    "track_shape_1 = (17,32)\n",
    "ACCELERATION =  [[1,-1],  [1,0],  [1,1],\n",
    "                 [0,-1],  [0,0],  [0,1],\n",
    "                [-1,-1], [-1,0], [-1,1]]\n",
    "ACTIONS_NUM = len(ACCELERATION)\n",
    "\n",
    "REWARD = -1\n",
    "CONVERGENCE_ERROR = 0.02\n"
   ]
  },
  {
   "cell_type": "code",
   "execution_count": 13,
   "metadata": {},
   "outputs": [],
   "source": [
    "def rt_getStartPosition(start_line):\n",
    "    return (np.random.randint(start_line[0], start_line[2]),0,0,0)\n",
    "\n",
    "def is_finished(finish_line, position, next_position):\n",
    "    return is_intersection(np.array([(finish_line[0],finish_line[1]),\n",
    "                                     (finish_line[0],finish_line[3])]),\n",
    "                           np.array([np.array(position)+0.5, \n",
    "                                     np.array(next_position)+0.5]))\n",
    "\n",
    "def is_runout(contour, position, next_position):\n",
    "    it = iter(contour)\n",
    "    p1 = next(it)\n",
    "    for p2 in it:\n",
    "        if is_intersection(np.array([p1,p2]), \n",
    "                           np.array([np.array(position)+0.5, \n",
    "                                     np.array(next_position)+0.5])):\n",
    "            return True\n",
    "        p1 = p2\n",
    "    return False\n",
    "\n",
    "def rt_getTransition(track_contour, state, action, finish_line, \n",
    "                     getStartPosition=lambda: rt_getStartPosition(start_line_1)):\n",
    "    accel = ACCELERATION[action]\n",
    "    next_velocity = np.clip([state[2]+accel[0],state[3]+accel[1]], \n",
    "                            MIN_VELOCITY, MAX_VELOCITY)\n",
    "    if (next_velocity == [0,0]).all():\n",
    "        next_velocity = np.array([state[2],state[3]])\n",
    "    position = np.array([state[0],state[1]])\n",
    "    next_position = position + next_velocity\n",
    "\n",
    "    if is_finished(finish_line, position, next_position):\n",
    "        return (True,getStartPosition())\n",
    "\n",
    "    if not is_runout(track_contour, position, next_position):\n",
    "        next_state = tuple(next_position) + tuple(next_velocity)\n",
    "    else:\n",
    "        next_state = getStartPosition()\n",
    "        \n",
    "    return (False,next_state)\n",
    "    "
   ]
  },
  {
   "cell_type": "markdown",
   "metadata": {},
   "source": [
    "#### Test of RaceTrack environment"
   ]
  },
  {
   "cell_type": "code",
   "execution_count": 15,
   "metadata": {},
   "outputs": [
    {
     "data": {
      "text/plain": [
       "(False, (15, 31, 3, 1))"
      ]
     },
     "execution_count": 15,
     "metadata": {},
     "output_type": "execute_result"
    }
   ],
   "source": [
    "rt_getTransition(rt_contour_1, (12,30,3,1), 4, finish_line_1, \n",
    "                 getStartPosition=lambda: rt_getStartPosition(start_line_1))"
   ]
  },
  {
   "cell_type": "markdown",
   "metadata": {},
   "source": [
    "### Setup the environment "
   ]
  },
  {
   "cell_type": "code",
   "execution_count": 16,
   "metadata": {},
   "outputs": [],
   "source": [
    "import sys\n",
    "sys.path.append('..')\n",
    "import SeqGen\n",
    "QShape = track_shape_1 + (MAX_VELOCITY+1, MAX_VELOCITY+1, ACTIONS_NUM)"
   ]
  },
  {
   "cell_type": "code",
   "execution_count": 31,
   "metadata": {},
   "outputs": [],
   "source": [
    "np.random.seed(113)\n",
    "Q = (np.random.random(QShape)-0.5)*0.001 - 300.0"
   ]
  },
  {
   "cell_type": "code",
   "execution_count": 32,
   "metadata": {},
   "outputs": [],
   "source": [
    "sequence = SeqGen.SequenceGeneratorPlus(\n",
    "                SeqGen.EpsilonGreedyPolicy(Q, 0.1),\n",
    "                lambda: rt_getStartPosition(start_line_1),\n",
    "                lambda s,a: rt_getTransition(\n",
    "                        rt_contour_1, s, a, finish_line_1, \n",
    "                        getStartPosition=lambda: rt_getStartPosition(start_line_1))\n",
    "                    + (REWARD,),\n",
    "                episodes_max=1000\n",
    "               )"
   ]
  },
  {
   "cell_type": "markdown",
   "metadata": {},
   "source": [
    "#### Obsoleted. Left for testing purposes."
   ]
  },
  {
   "cell_type": "code",
   "execution_count": 216,
   "metadata": {},
   "outputs": [],
   "source": [
    "def MC_run(sequence, Q, C, gamma):\n",
    "    conv_count = 0\n",
    "    it = iter(sequence)\n",
    "    while True:\n",
    "        episode = []\n",
    "        try: \n",
    "            while True:\n",
    "                st,is_term,st_nx,ac,rw = next(it)\n",
    "                episode.append((st,ac,rw))\n",
    "                if is_term: break\n",
    "        except StopIteration:\n",
    "            print(\"\\nSequence terminated.\")\n",
    "            break\n",
    "        if len(episode) == 0: break\n",
    "        print(\" Episode #: {:7}; length: {:7}\\r\".format(sequence.episode_i-1, len(episode)), \n",
    "              end='', flush=True)\n",
    "\n",
    "        t_policy = getGreedyPolicy(Q)\n",
    "    \n",
    "        if OffPolicyMCControl(episode, Q, C, t_policy, sequence.get_action.getDistribution, gamma):\n",
    "            conv_count += 1\n",
    "        else: \n",
    "            conv_count = 0\n",
    "        if conv_count >= 500:\n",
    "            print(\"\\nConvergence reached.\")\n",
    "            break\n",
    "        \n",
    "    print(\"\\nEpisodes generated: {}\".format(sequence.episode_i-1))"
   ]
  },
  {
   "cell_type": "code",
   "execution_count": 217,
   "metadata": {},
   "outputs": [
    {
     "name": "stdout",
     "output_type": "stream",
     "text": [
      " Episode #:    1000; length:      13\n",
      "Sequence terminated.\n",
      "\n",
      "Episodes generated: 1000\n"
     ]
    }
   ],
   "source": [
    "C = np.zeros(dtype=np.float, shape=Q.shape)\n",
    "MC_run(sequence, Q, C, 0.999)"
   ]
  },
  {
   "cell_type": "markdown",
   "metadata": {},
   "source": [
    "### Run Off-policy MC Control learning"
   ]
  },
  {
   "cell_type": "code",
   "execution_count": 222,
   "metadata": {},
   "outputs": [
    {
     "name": "stdout",
     "output_type": "stream",
     "text": [
      " Episode #:    1000; length:      13\n",
      "Episodes generated: 1000\n"
     ]
    }
   ],
   "source": [
    "C = np.zeros(dtype=np.float, shape=Q.shape)\n",
    "t_policy = getGreedyPolicy(Q)\n",
    "learnByEpisode(sequence, \n",
    "               lambda e,i: OffPolicyMCControl(e, Q, C, t_policy, \n",
    "                                sequence.get_action.getDistribution, 0.999))"
   ]
  },
  {
   "cell_type": "markdown",
   "metadata": {},
   "source": [
    "### Run On-policy First Visit MC Control learning"
   ]
  },
  {
   "cell_type": "code",
   "execution_count": 33,
   "metadata": {},
   "outputs": [],
   "source": [
    "np.random.seed(113)\n",
    "Q = (np.random.random(QShape)-0.5)*0.001 - 300"
   ]
  },
  {
   "cell_type": "code",
   "execution_count": 34,
   "metadata": {},
   "outputs": [],
   "source": [
    "sequence = SeqGen.SequenceGeneratorPlus(\n",
    "                SeqGen.EpsilonGreedyPolicy(Q, 0.1),\n",
    "                lambda: rt_getStartPosition(start_line_1),\n",
    "                lambda s,a: rt_getTransition(\n",
    "                        rt_contour_1, s, a, finish_line_1, \n",
    "                        getStartPosition=lambda: rt_getStartPosition(start_line_1))\n",
    "                    + (REWARD,),\n",
    "                episodes_max=10000\n",
    "               )"
   ]
  },
  {
   "cell_type": "code",
   "execution_count": 192,
   "metadata": {},
   "outputs": [
    {
     "name": "stdout",
     "output_type": "stream",
     "text": [
      " Episode #:   10000; length:      15\n",
      "Episodes generated: 10000\n"
     ]
    }
   ],
   "source": [
    "C = np.zeros(shape=Q.shape, dtype=int)\n",
    "learnByEpisode(sequence, lambda e,i: OnPolicyFirstVisitMCControl(e, Q, C, 0.999))"
   ]
  },
  {
   "cell_type": "code",
   "execution_count": 137,
   "metadata": {},
   "outputs": [
    {
     "name": "stdout",
     "output_type": "stream",
     "text": [
      " Episode #: 10000; length: 19\n",
      "Episodes generated: 10000\n"
     ]
    }
   ],
   "source": [
    "learnByEpisode(sequence, lambda e,i: OnPolicyFirstVisitMCControl(e, Q, C, 0.999))"
   ]
  },
  {
   "cell_type": "markdown",
   "metadata": {},
   "source": [
    "### Run On-policy Every Visit MC Control learning"
   ]
  },
  {
   "cell_type": "code",
   "execution_count": 35,
   "metadata": {},
   "outputs": [
    {
     "name": "stdout",
     "output_type": "stream",
     "text": [
      " Episode #:   10000; length:      14\n",
      "Episodes generated: 10000\n"
     ]
    }
   ],
   "source": [
    "C = np.zeros(shape=Q.shape, dtype=int)\n",
    "learnByEpisode(sequence, lambda e,i: OnPolicyEveryVisitMCControl(e, Q, C, 0.99))"
   ]
  },
  {
   "cell_type": "markdown",
   "metadata": {},
   "source": [
    "### Plot the optimal paths"
   ]
  },
  {
   "cell_type": "code",
   "execution_count": 28,
   "metadata": {},
   "outputs": [],
   "source": [
    "# The same as getGreedyPolicy but with incapsulation\n",
    "class ImmutableGreedyPolicy:\n",
    "    def __init__(self, Q):\n",
    "        self.action = np.argmax(Q,axis=-1);\n",
    "        \n",
    "    def __call__(self, state):\n",
    "        return self.action[state]\n",
    "    "
   ]
  },
  {
   "cell_type": "code",
   "execution_count": 36,
   "metadata": {},
   "outputs": [],
   "source": [
    "epi = start_line_1[0]\n",
    "def startPosition():\n",
    "    global epi\n",
    "    return (epi,0,0,0)\n",
    "\n",
    "test_gen = SeqGen.SequenceGeneratorPlus(\n",
    "    ImmutableGreedyPolicy(Q), \n",
    "    startPosition,\n",
    "    lambda s,a: rt_getTransition(rt_contour_1, s, a, finish_line_1, \n",
    "                        getStartPosition=lambda: rt_getStartPosition(start_line_1))\n",
    "                    + (REWARD,),\n",
    "    episodes_max = start_line_1[2]-start_line_1[0],\n",
    "    episode_maxlen = 30\n",
    "    )\n",
    "\n",
    "traces = []\n",
    "episode = []\n",
    "for state, is_terminal, next_state, action, reward in test_gen:\n",
    "    episode.append(state[0:2])\n",
    "    if is_terminal:\n",
    "        traces.append(np.array(episode)+0.5)\n",
    "        episode = []\n",
    "        epi += 1"
   ]
  },
  {
   "cell_type": "code",
   "execution_count": 37,
   "metadata": {},
   "outputs": [
    {
     "data": {
      "image/png": "[encoded data removed]",
      "text/plain": [
       "<Figure size 800x1000 with 1 Axes>"
      ]
     },
     "metadata": {},
     "output_type": "display_data"
    }
   ],
   "source": [
    "f = plt.figure(num=None, figsize=(8,10), dpi=100, facecolor='w', edgecolor='k')\n",
    "plt.axes().set_aspect('equal')\n",
    "cont = np.array(rt_contour_1)\n",
    "plt.plot(cont[:,0], cont[:,1], figure=f)\n",
    "cols = ['red','yellow','black','green','magenta','blue']\n",
    "i = 0\n",
    "for trace in traces:\n",
    "    plt.plot(trace[:,0], trace[:,1], figure=f, linewidth=4.0, color=cols[i])\n",
    "    i += 1"
   ]
  },
  {
   "cell_type": "markdown",
   "metadata": {},
   "source": [
    "#### Some testing stuff"
   ]
  },
  {
   "cell_type": "code",
   "execution_count": null,
   "metadata": {},
   "outputs": [],
   "source": [
    "sequence.get_action.getDistribution()[12, 18, 3, 0]"
   ]
  },
  {
   "cell_type": "code",
   "execution_count": 65,
   "metadata": {},
   "outputs": [],
   "source": [
    "np.save(\"Q_100K\",Q)\n",
    "np.save(\"C_100K\",C)"
   ]
  },
  {
   "cell_type": "code",
   "execution_count": 8,
   "metadata": {},
   "outputs": [],
   "source": [
    "Q = np.load(\"Q_100K.npy\")\n",
    "C = np.load(\"C_100K.npy\")"
   ]
  },
  {
   "cell_type": "code",
   "execution_count": 63,
   "metadata": {},
   "outputs": [],
   "source": [
    "returns = np.empty(shape=Q.shape, dtype=object)\n",
    "for i in np.ndindex(returns.shape): \n",
    "    returns[i] = []\n"
   ]
  }
 ],
 "metadata": {
  "kernelspec": {
   "display_name": "Python 3",
   "language": "python",
   "name": "python3"
  },
  "language_info": {
   "codemirror_mode": {
    "name": "ipython",
    "version": 3
   },
   "file_extension": ".py",
   "mimetype": "text/x-python",
   "name": "python",
   "nbconvert_exporter": "python",
   "pygments_lexer": "ipython3",
   "version": "3.6.7rc1"
  }
 },
 "nbformat": 4,
 "nbformat_minor": 2
}
