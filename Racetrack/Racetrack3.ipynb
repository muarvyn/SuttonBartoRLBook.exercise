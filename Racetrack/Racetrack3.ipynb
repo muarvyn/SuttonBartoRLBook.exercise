{
 "cells": [
  {
   "cell_type": "code",
   "execution_count": 2,
   "metadata": {},
   "outputs": [],
   "source": [
    "import numpy as np\n",
    "import matplotlib.pyplot as plt\n",
    "\n",
    "gamma = 1.0"
   ]
  },
  {
   "cell_type": "code",
   "execution_count": 3,
   "metadata": {},
   "outputs": [],
   "source": [
    "Q = np.load(\"Q.npy\")\n",
    "C = np.load(\"C.npy\")"
   ]
  },
  {
   "cell_type": "code",
   "execution_count": 4,
   "metadata": {},
   "outputs": [],
   "source": [
    "def getGreedyPolicy(Q):\n",
    "    return np.argmax(Q,axis=-1)\n",
    "\n",
    "def innerMCControl(episode, Q, C, t_policy, getBPolicy):\n",
    "    b_policy = getBPolicy(Q)\n",
    "    G = 0.0\n",
    "    W = 1.0\n",
    "    converged = True\n",
    "    step = len(episode)-1\n",
    "    for state, action, reward in reversed(episode):\n",
    "        G = gamma*G + reward\n",
    "        C[state][action] += W\n",
    "        q = Q[state][action]\n",
    "        Q[state][action] += W/C[state][action] * (G-Q[state][action])\n",
    "        converged = converged and abs(q - Q[state][action]) < CONVERGENCE_ERROR\n",
    "        t_policy[state] = np.argmax(Q[state])\n",
    "        if t_policy[state] != action: break\n",
    "        W *= 1.0/b_policy[state][action]\n",
    "        step -= 1\n",
    "    \n",
    "    print(\"\\repisode length:{:7}; steps used:{:3}\".format(len(episode),len(episode)-step), \n",
    "          end='', flush=True)\n",
    "    return converged"
   ]
  },
  {
   "cell_type": "code",
   "execution_count": 5,
   "metadata": {},
   "outputs": [],
   "source": [
    "def MCControl(episodes,C,getBPolicy,QShape):\n",
    "    C = np.zeros(dtype=np.float, shape=episodes.QShape)\n",
    "    t_policy = getGreedyPolicy(episodes.Q)\n",
    "    for episode in episodes:\n",
    "        innerMCControl(episode, episodes.Q, C, t_policy, lambda Q: episodes.policy)"
   ]
  },
  {
   "cell_type": "code",
   "execution_count": 5,
   "metadata": {},
   "outputs": [],
   "source": [
    "MAX_VELOCITY = 4\n",
    "MIN_VELOCITY = 0\n",
    "TRACK_TAG = 1\n",
    "RT_grid = [3,6,3,\n",
    "           2,7,7,\n",
    "           1,8,8,\n",
    "           0,9,7,\n",
    "           0,10,1,\n",
    "           0,17,2,\n",
    "           1,16,1,\n",
    "           2,15,2,\n",
    "           3,14,1]\n",
    "START_TAG = 2\n",
    "start_line = (0,3,1,9)\n",
    "FINISH_TAG = 3\n",
    "finish_line = (26,16,32,17)\n",
    "track_data = np.array(RT_grid).reshape((-1,3))\n",
    "reward = -1\n",
    "CONVERGENCE_ERROR = 0.02"
   ]
  },
  {
   "cell_type": "code",
   "execution_count": 6,
   "metadata": {},
   "outputs": [],
   "source": [
    "def rt_getStartPosition():\n",
    "    return (0,np.random.randint(start_line[1], start_line[3]),0,0)\n",
    "\n",
    "def getBPolicy(Q, epsilon):\n",
    "    eps_policy = np.ones(dtype=np.float, shape=Q.shape) * epsilon/ACTIONS_NUM\n",
    "    for state in np.ndindex(Q.shape[:-1]):\n",
    "        action = np.argmax(Q[state])\n",
    "        eps_policy[state][action] += 1.0-epsilon\n",
    "    return eps_policy\n",
    "\n",
    "def getBPolicyLog(Q, epsilon, step):\n",
    "    e = min(1.0, epsilon/np.log(max(2,step/100)))\n",
    "    eps_policy = np.ones(dtype=np.float, shape=Q.shape) * e/ACTIONS_NUM\n",
    "    for state in np.ndindex(Q.shape[:-1]):\n",
    "        action = np.argmax(Q[state])\n",
    "        eps_policy[state][action] += 1.0-e\n",
    "    return eps_policy\n"
   ]
  },
  {
   "cell_type": "code",
   "execution_count": 7,
   "metadata": {},
   "outputs": [],
   "source": [
    "ACCELERATION =  [[1,-1],  [1,0],  [1,1],\n",
    "                 [0,-1],  [0,0],  [0,1],\n",
    "                [-1,-1], [-1,0], [-1,1]]\n",
    "ACTIONS_NUM = len(ACCELERATION)\n",
    "\n",
    "def rt_transition(track, state, action, getStartPosition=rt_getStartPosition):\n",
    "    #next_velocity = np.vectorize(lambda x: min(x,MAX_VELOCITY))(state[1]+action)\n",
    "    accel = ACCELERATION[action]\n",
    "    next_velocity = np.clip([state[2]+accel[0],state[3]+accel[1]], \n",
    "                            MIN_VELOCITY, MAX_VELOCITY)\n",
    "    if (next_velocity == [0,0]).all():\n",
    "        next_velocity = [state[2],state[3]]\n",
    "    position = [state[0],state[1]]\n",
    "    next_position = position + next_velocity\n",
    "    disp = next_velocity\n",
    "    #intersection_row = (disp[0]/disp[1]) * (track.shape[1]-position[1]) + position[0]\n",
    "    is_finished = next_position[1] >= track.shape[1] and \\\n",
    "        26.0 <= (disp[0]/disp[1]) * (track.shape[1]-position[1]) + position[0] < 32.0\n",
    "    \n",
    "    if is_finished: return (True,getStartPosition())\n",
    "    \n",
    "    next_position = tuple(next_position)\n",
    "    if next_position in np.ndindex(track.shape) and \\\n",
    "        track[next_position] > 0:\n",
    "        next_state = next_position + tuple(next_velocity)\n",
    "    else:\n",
    "        next_state = getStartPosition()\n",
    "        \n",
    "    return (False,next_state)\n"
   ]
  },
  {
   "cell_type": "code",
   "execution_count": 8,
   "metadata": {},
   "outputs": [
    {
     "name": "stdout",
     "output_type": "stream",
     "text": [
      "(32, 17)\n"
     ]
    }
   ],
   "source": [
    "### Building race track ###\n",
    "# Determine extents of race track grid.\n",
    "track = np.zeros(shape=(np.sum(track_data[:,-1]), \n",
    "                        max(np.sum(track_data[:,:-1], axis=1))),\n",
    "                dtype = np.uint8)\n",
    "print(track.shape)\n",
    "row=0\n",
    "for start,length,repeat in track_data:\n",
    "    for i in range(repeat):\n",
    "        track[row, start:start+length] = TRACK_TAG\n",
    "        row += 1\n",
    "track[start_line[0]:start_line[2],start_line[1]:start_line[3]] = START_TAG\n",
    "track[finish_line[0]:finish_line[2],finish_line[1]:finish_line[3]] = FINISH_TAG"
   ]
  },
  {
   "cell_type": "markdown",
   "metadata": {},
   "source": [
    "disp[1]/disp[0] == (track.shape[1]-position[1])/(track_row-position[0])\n",
    "track_row = (disp[0]/disp[1]) * (track.shape[1]-position[1]) + position[0]"
   ]
  },
  {
   "cell_type": "code",
   "execution_count": 9,
   "metadata": {},
   "outputs": [],
   "source": [
    "def getAction(policy, state):\n",
    "    return (np.nonzero(np.random.multinomial(1, policy[state]))[0])[0]\n",
    "\n",
    "def rt_generateEpisode(b_policy, getAction):\n",
    "    state = rt_getStartPosition()\n",
    "    episode = []\n",
    "    while True:\n",
    "        action = getAction(b_policy, state)\n",
    "        episode.append((state, action, reward))\n",
    "        is_finished, next_state = rt_transition(track, state, action)\n",
    "        if is_finished: break\n",
    "        state = next_state\n",
    "        \n",
    "    return episode"
   ]
  },
  {
   "cell_type": "code",
   "execution_count": 10,
   "metadata": {},
   "outputs": [],
   "source": [
    "class Episodes:\n",
    "    def __init__(self, N, Q, track, getBPolicy):\n",
    "        self.samples_num = N\n",
    "        self.state_shape = Q.shape[:-1]\n",
    "        self.Q = Q\n",
    "        self.getBPolicy = getBPolicy\n",
    "    \n",
    "    def __iter__(self):\n",
    "        self.N = self.samples_num\n",
    "        return self\n",
    "    \n",
    "    def __next__(self):\n",
    "        if self.N == 0: raise StopIteration\n",
    "        self.N -= 1\n",
    "        self.policy = self.getBPolicy(self.Q, self.samples_num-self.N)\n",
    "        return rt_generateEpisode(self.policy, getAction)"
   ]
  },
  {
   "cell_type": "code",
   "execution_count": 11,
   "metadata": {},
   "outputs": [],
   "source": [
    "def MC_run(N, Q, C):\n",
    "    episodes = Episodes(N, Q, track, lambda q,s: getBPolicy(q,10000.0/(20000.0+s)))\n",
    "                        #lambda q,s: rt_getBPolicy(q,0.5)) #lambda q,s: getBPolicyLog(q,0.7,s))\n",
    "    t_policy = getGreedyPolicy(episodes.Q)\n",
    "    conv_count = 0\n",
    "    for episode in episodes:\n",
    "        if innerMCControl(episode, episodes.Q, C, t_policy, lambda Q: episodes.policy):\n",
    "            conv_count += 1\n",
    "        else: \n",
    "            conv_count = 0\n",
    "        if conv_count >= 500:\n",
    "            print(\"\\nConvergence reached.\")\n",
    "            break\n",
    "            \n",
    "    print(\"\\nEpisodes generated: {}\".format(episodes.samples_num - episodes.N))"
   ]
  },
  {
   "cell_type": "code",
   "execution_count": 103,
   "metadata": {},
   "outputs": [
    {
     "name": "stdout",
     "output_type": "stream",
     "text": [
      "episode length:     11; steps used: 12\n",
      "Convergence reached.\n",
      "\n",
      "Episodes generated: 14511\n"
     ]
    }
   ],
   "source": [
    "QShape = track.shape + (MAX_VELOCITY+1, MAX_VELOCITY+1, ACTIONS_NUM)\n",
    "Q = (np.random.random(QShape)-0.5)*0.1 - 30.0\n",
    "C = np.zeros(dtype=np.float, shape=Q.shape)\n",
    "MC_run(40000, Q, C)"
   ]
  },
  {
   "cell_type": "code",
   "execution_count": 20,
   "metadata": {},
   "outputs": [
    {
     "name": "stdout",
     "output_type": "stream",
     "text": [
      "episode length:     10; steps used:  3\n",
      "Episodes generated: 50000\n"
     ]
    }
   ],
   "source": [
    "MC_run(50000, Q, C)"
   ]
  },
  {
   "cell_type": "code",
   "execution_count": 15,
   "metadata": {},
   "outputs": [],
   "source": [
    "def buildEpisode(startPosition, policy):\n",
    "    state = startPosition\n",
    "    episode = []\n",
    "    while True:\n",
    "        action = policy[state]\n",
    "        episode.append((state, action, reward))\n",
    "        is_finished, next_state = rt_transition(track, state, action, lambda:startPosition)\n",
    "        if is_finished or next_state==startPosition: break\n",
    "        state = next_state\n",
    "        \n",
    "    return episode\n",
    "\n",
    "def buildTrack(policy):\n",
    "    return"
   ]
  },
  {
   "cell_type": "code",
   "execution_count": 18,
   "metadata": {},
   "outputs": [
    {
     "data": {
      "text/plain": [
       "[((0, 3, 0, 0), 5, -1),\n",
       " ((0, 4, 0, 1), 0, -1),\n",
       " ((1, 4, 1, 0), 2, -1),\n",
       " ((3, 5, 2, 1), 0, -1),\n",
       " ((6, 5, 3, 0), 1, -1),\n",
       " ((10, 5, 4, 0), 0, -1),\n",
       " ((14, 5, 4, 0), 2, -1),\n",
       " ((18, 6, 4, 1), 5, -1),\n",
       " ((22, 8, 4, 2), 2, -1),\n",
       " ((26, 11, 4, 3), 2, -1),\n",
       " ((30, 15, 4, 4), 7, -1),\n",
       " ((33, 19, 0, 0), 0, 11)]"
      ]
     },
     "execution_count": 18,
     "metadata": {},
     "output_type": "execute_result"
    }
   ],
   "source": [
    "p = getGreedyPolicy(Q)\n",
    "episode = buildEpisode((0,3,0,0),p)\n",
    "last = episode[-1]\n",
    "episode.append((tuple(np.array(last[0][:2])+np.array(last[0][2:])+ACCELERATION[last[1]]) +\n",
    "               (0,0),0,len(episode)))\n",
    "\n",
    "trace = np.array([list(s[:2]) for s,a,r in episode])\n",
    "episode"
   ]
  },
  {
   "cell_type": "code",
   "execution_count": 21,
   "metadata": {},
   "outputs": [
    {
     "data": {
      "text/plain": [
       "[<matplotlib.lines.Line2D at 0x7f4604886438>]"
      ]
     },
     "execution_count": 21,
     "metadata": {},
     "output_type": "execute_result"
    },
    {
     "data": {
      "image/png": "[encoded data removed]",
      "text/plain": [
       "<Figure size 640x800 with 1 Axes>"
      ]
     },
     "metadata": {},
     "output_type": "display_data"
    }
   ],
   "source": [
    "f = plt.figure(num=None, figsize=(8,10), dpi=80, facecolor='w', edgecolor='k')\n",
    "plt.pcolor(track, figure=f)\n",
    "plt.plot(trace[:,1], trace[:,0], figure=f, linewidth=4.0, color='red')"
   ]
  },
  {
   "cell_type": "code",
   "execution_count": 84,
   "metadata": {},
   "outputs": [
    {
     "name": "stdout",
     "output_type": "stream",
     "text": [
      "episode length:  10141; steps used:  2\n",
      "Episodes generated: 200\n"
     ]
    }
   ],
   "source": [
    "QShape = track.shape + (MAX_VELOCITY+1, MAX_VELOCITY+1, ACTIONS_NUM)\n",
    "Q = (np.random.random(QShape)-0.5)*0.1 - 30.0\n",
    "episodes = Episodes(200, Q, track, lambda q,s: getBPolicyLog(q,0.7,s))\n",
    "C = np.zeros(dtype=np.float, shape=episodes.Q.shape)\n",
    "t_policy = getGreedyPolicy(episodes.Q)\n",
    "conv_count = 0\n",
    "for episode in episodes:\n",
    "    if innerMCControl(episode, episodes.Q, C, t_policy, lambda Q: episodes.policy):\n",
    "        conv_count += 1\n",
    "    else: \n",
    "        conv_count = 0\n",
    "    if conv_count > 100:\n",
    "        print(\"Convergence reached.\")\n",
    "print(\"\\nEpisodes generated: {}\".format(episodes.samples_num - episodes.N))"
   ]
  },
  {
   "cell_type": "code",
   "execution_count": 46,
   "metadata": {},
   "outputs": [
    {
     "name": "stdout",
     "output_type": "stream",
     "text": [
      "episode length:     18; steps used: 10"
     ]
    }
   ],
   "source": [
    "episodes = Episodes(2000, episodes.Q, track, lambda Q,s: rt_getBPolicy(Q,s,0.5))\n",
    "for episode in episodes:\n",
    "    innerMCControl(episode, episodes.Q, C, t_policy, lambda Q: episodes.policy)"
   ]
  },
  {
   "cell_type": "code",
   "execution_count": 7,
   "metadata": {},
   "outputs": [],
   "source": [
    "def rt_getTargetPolicyAction(Q, state):\n",
    "    return np.argmax(Q[state])"
   ]
  },
  {
   "cell_type": "code",
   "execution_count": 34,
   "metadata": {},
   "outputs": [
    {
     "data": {
      "text/plain": [
       "7267"
      ]
     },
     "execution_count": 34,
     "metadata": {},
     "output_type": "execute_result"
    }
   ],
   "source": [
    "aa = np.array(list(zip(*np.nonzero(C))))\n",
    "len(aa)"
   ]
  },
  {
   "cell_type": "code",
   "execution_count": 25,
   "metadata": {},
   "outputs": [
    {
     "data": {
      "text/plain": [
       "((0, 1, 0), -11.064158314306082)"
      ]
     },
     "execution_count": 25,
     "metadata": {},
     "output_type": "execute_result"
    }
   ],
   "source": [
    "pos = (0,8)\n",
    "ind = np.unravel_index(np.argmax(Q[pos]),Q[pos].shape)\n",
    "ind, Q[pos][ind]\n",
    "#aa[-50:]"
   ]
  },
  {
   "cell_type": "code",
   "execution_count": 154,
   "metadata": {},
   "outputs": [],
   "source": [
    "np.save(\"Q\",Q)\n",
    "np.save(\"C\",C)"
   ]
  },
  {
   "cell_type": "code",
   "execution_count": null,
   "metadata": {},
   "outputs": [],
   "source": [
    "epsilon = 0.5\n",
    "getBPolicy = lambda Q: rt_getBPolicy(Q,epsilon)\n",
    "MCControl()"
   ]
  },
  {
   "cell_type": "code",
   "execution_count": 26,
   "metadata": {},
   "outputs": [
    {
     "name": "stdout",
     "output_type": "stream",
     "text": [
      "False (31, 5, 1, 1)\n"
     ]
    },
    {
     "data": {
      "text/plain": [
       "[([1, -1], (False, (0, 6, 0, 0))),\n",
       " ([1, 0], (False, (0, 6, 0, 0))),\n",
       " ([1, 1], (False, (0, 6, 0, 0))),\n",
       " ([0, -1], (False, (0, 6, 0, 0))),\n",
       " ([0, 0], (False, (0, 6, 0, 0))),\n",
       " ([0, 1], (False, (0, 6, 0, 0))),\n",
       " ([-1, -1], (False, (31, 5, 0, 0))),\n",
       " ([-1, 0], (False, (31, 6, 0, 1))),\n",
       " ([-1, 1], (False, (31, 7, 0, 2)))]"
      ]
     },
     "execution_count": 26,
     "metadata": {},
     "output_type": "execute_result"
    }
   ],
   "source": [
    "f,ns = rt_transition(track,state,action)\n",
    "print(f,ns)\n",
    "[(ACCELERATION[a],rt_transition(track,ns,a)) for a in range(9)]"
   ]
  },
  {
   "cell_type": "code",
   "execution_count": 17,
   "metadata": {},
   "outputs": [
    {
     "data": {
      "text/plain": [
       "array([0.72134752, 0.45511961, 0.21714724, 0.10857362, 0.07238241])"
      ]
     },
     "execution_count": 17,
     "metadata": {},
     "output_type": "execute_result"
    }
   ],
   "source": [
    "0.5/np.log([2,3,10,100,1000])"
   ]
  },
  {
   "cell_type": "code",
   "execution_count": 37,
   "metadata": {},
   "outputs": [
    {
     "data": {
      "text/plain": [
       "(-10.0,\n",
       " [1, -1],\n",
       " array([3826.69116941,  562.27887574,   61.33052762, 1853.56060307,\n",
       "        3882.9613061 ,  260.64164729,   78.8653131 ,  424.20584327,\n",
       "         177.71391095]))"
      ]
     },
     "execution_count": 37,
     "metadata": {},
     "output_type": "execute_result"
    }
   ],
   "source": [
    "q = Q[1,8,1,0]\n",
    "a = np.argmax(q)\n",
    "q[a], ACCELERATION[a], C[1,8,1,0]\n"
   ]
  }
 ],
 "metadata": {
  "kernelspec": {
   "display_name": "Python 3",
   "language": "python",
   "name": "python3"
  },
  "language_info": {
   "codemirror_mode": {
    "name": "ipython",
    "version": 3
   },
   "file_extension": ".py",
   "mimetype": "text/x-python",
   "name": "python",
   "nbconvert_exporter": "python",
   "pygments_lexer": "ipython3",
   "version": "3.6.7rc1"
  }
 },
 "nbformat": 4,
 "nbformat_minor": 2
}
