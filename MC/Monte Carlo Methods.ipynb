{
 "cells": [
  {
   "cell_type": "markdown",
   "metadata": {},
   "source": [
    "### Exercise 5.4\n",
    "\n",
    "#### Monte Carlo ES (Exploring Starts), for estimating $\\pi \\approx \\pi_*$.\n",
    "In the following answer the <font style=\"color: red\">code in red</font> is to be replaced with <font style=\"color: green\">code in green</font>.\n",
    "\n",
    "Initialize:<br>\n",
    "   <div style=\"text-indent: 20px\"> $\\pi(s)\\in \\mathcal{A}(s)$ (arbitrarily), for all $s \\in \\mathcal{S}$</div>\n",
    "   <div style=\"text-indent: 20px\"> $Q(s,a) \\in \\mathbb{R}$ (arbitrarily), for all $s \\in \\mathcal{S}$, $a \\in \\mathcal{A}(s)$</div>\n",
    "   <div style=\"text-indent: 20px; color: red\"> $Returns(s,a) \\leftarrow$ empty list, for all $s \\in \\mathcal{S}$, $a \\in \\mathcal{A}(s)$</div>\n",
    "   <div style=\"text-indent: 20px; color: green\"> $counts(s,a) \\leftarrow 0$, for all $s \\in \\mathcal{S}$, $a \\in \\mathcal{A}(s)$</div><br>\n",
    "Loop forever (for each episode):<br>\n",
    "<div style=\"text-indent: 20px\">Choose $S_0 \\in \\mathcal{S}, A_0 \\in \\mathcal{A}(S_0)$ randomly such that all pairs have probability > 0</div>\n",
    "<div style=\"text-indent: 20px\">Generate an episode from $S_0, A_0$, following $\\pi: S_0, A_0, R_1,..., S_{T-1}, A_{T-1}, R_T$</div>\n",
    "<div style=\"text-indent: 20px\">$G \\leftarrow 0$</div>\n",
    "<div style=\"text-indent: 20px\">Loop for each step of episode, $t=T-1,T-2,...,0:$</div>\n",
    "<div style=\"text-indent: 40px\">$G \\leftarrow \\gamma G+R_{t+1}$</div>\n",
    "<div style=\"text-indent: 40px\">Unless the pair $S_t, A_t$ appears in $S_0, A_0, S_1, A_1,..., S_{t-1}, A_{t-1}:$</div>\n",
    "<div style=\"text-indent: 60px; color: red\"> Append $G$ to $Returns(S_t, A_t)$</div>\n",
    "<div style=\"text-indent: 60px; color: green\"> $counts(S_t, A_t) \\leftarrow counts(S_t, A_t)+1$</div>\n",
    "<div style=\"text-indent: 60px; color: red\">$Q(S_t, A_t) \\leftarrow avarage(Returns(S_t, A_t))$</div>\n",
    "<div style=\"text-indent: 60px; color: green\"> $Q(S_t, A_t) \\leftarrow Q(S_t, A_t)+\\frac{1}{counts(S_t, A_t)} \\big[ G-Q(S_t, A_t)\\big]$,</div>\n",
    "<div style=\"text-indent: 60px\">$\\pi(S_t) \\leftarrow argmax_a Q(S_t, a)$</div>"
   ]
  }
 ],
 "metadata": {
  "kernelspec": {
   "display_name": "Python 3",
   "language": "python",
   "name": "python3"
  },
  "language_info": {
   "codemirror_mode": {
    "name": "ipython",
    "version": 3
   },
   "file_extension": ".py",
   "mimetype": "text/x-python",
   "name": "python",
   "nbconvert_exporter": "python",
   "pygments_lexer": "ipython3",
   "version": "3.6.7rc1"
  }
 },
 "nbformat": 4,
 "nbformat_minor": 2
}
